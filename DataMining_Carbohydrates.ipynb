{
  "nbformat": 4,
  "nbformat_minor": 0,
  "metadata": {
    "colab": {
      "provenance": [],
      "collapsed_sections": []
    },
    "kernelspec": {
      "name": "python3",
      "display_name": "Python 3"
    },
    "language_info": {
      "name": "python"
    }
  },
  "cells": [
    {
      "cell_type": "markdown",
      "source": [
        "## **MINERIA DE DATOS CON CARBOHIDRATOS**"
      ],
      "metadata": {
        "id": "qQUlFxo1VebL"
      }
    },
    {
      "cell_type": "markdown",
      "source": [
        "# OBTENIENDO SMILES\n",
        "REQUERIMIENTOS: RDKit - Gregory A. Landrum\n",
        "Researcher ETH Zurich\n",
        "\n",
        "Este código obtiene los las estructuras de moleculas a partir de su nombre IUPAC a nombre común utilizando el API de cactus\n",
        "\n",
        "**Instalar las librerias urlopen, quote y pandas**\n",
        "\n",
        "Estas librerias permiten hacer busquedas por API y pandas para el manejo de dataframes\n",
        "\n",
        "Las librerias asociadas a RDKit permiten la manipulación y análisis de datos químicos"
      ],
      "metadata": {
        "id": "KVzZQ51DVvoj"
      }
    },
    {
      "cell_type": "code",
      "source": [
        "# Install RDKit.\n",
        "%%capture\n",
        "!pip install rdkit-pypi"
      ],
      "metadata": {
        "id": "vw1Tk3PU-TEB"
      },
      "execution_count": 1,
      "outputs": []
    },
    {
      "cell_type": "code",
      "source": [
        "from ipywidgets import interact, fixed, widgets\n",
        "from rdkit import Chem, Geometry\n",
        "from rdkit.Chem import AllChem\n",
        "from rdkit.Chem import Draw\n",
        "from rdkit.Chem import rdFMCS\n",
        "from rdkit import DataStructs\n",
        "from rdkit.Chem import PandasTools\n",
        "from rdkit.Chem.Draw import IPythonConsole"
      ],
      "metadata": {
        "id": "RaZ26-QJ_RFM"
      },
      "execution_count": null,
      "outputs": []
    },
    {
      "cell_type": "code",
      "source": [
        "import pandas as pd\n",
        "import numpy as np\n",
        "import matplotlib.pyplot as plt\n",
        "from urllib.request import urlopen\n",
        "from urllib.parse import quote"
      ],
      "metadata": {
        "id": "WlB75_nmXoXu"
      },
      "execution_count": null,
      "outputs": []
    },
    {
      "cell_type": "code",
      "source": [
        "from collections import defaultdict\n",
        "from pathlib import Path\n",
        "from copy import deepcopy\n",
        "import random"
      ],
      "metadata": {
        "id": "OzDLT0lhAdH4"
      },
      "execution_count": null,
      "outputs": []
    },
    {
      "cell_type": "markdown",
      "source": [
        "Cargar el archivo con los nombres de los compuestos a los que se va a extraer el smiles"
      ],
      "metadata": {
        "id": "yUDmrpPWWPXx"
      }
    },
    {
      "cell_type": "code",
      "source": [
        "file = '/content/Carbohydrates_test.xlsx'\n",
        "data_frame = pd.read_excel(file, sheet_name='Hoja1')\n",
        "data_frame"
      ],
      "metadata": {
        "id": "VRffIvV9XABD",
        "colab": {
          "base_uri": "https://localhost:8080/",
          "height": 363
        },
        "outputId": "fbb45a52-825a-4066-cb95-43d013a39a37"
      },
      "execution_count": null,
      "outputs": [
        {
          "output_type": "execute_result",
          "data": {
            "text/plain": [
              "       Carbohydrate             Type Subtype\n",
              "0  D-Glyceraldehyde  Monosaccharides  aldose\n",
              "1  L-Glyceraldehyde  Monosaccharides  aldose\n",
              "2       D-Erythrose  Monosaccharides  aldose\n",
              "3         D-Threose  Monosaccharides  aldose\n",
              "4       D-Arabinose  Monosaccharides  aldose\n",
              "5       L-Arabinose  Monosaccharides  aldose\n",
              "6          D-Xylose  Monosaccharides  aldose\n",
              "7          L-Xylose  Monosaccharides  aldose\n",
              "8          D-Lyxose  Monosaccharides  aldose\n",
              "9          L-Lyxose  Monosaccharides  aldose"
            ],
            "text/html": [
              "\n",
              "  <div id=\"df-52da8bfc-a5b4-455f-896f-28aabbc83c76\">\n",
              "    <div class=\"colab-df-container\">\n",
              "      <div>\n",
              "<style scoped>\n",
              "    .dataframe tbody tr th:only-of-type {\n",
              "        vertical-align: middle;\n",
              "    }\n",
              "\n",
              "    .dataframe tbody tr th {\n",
              "        vertical-align: top;\n",
              "    }\n",
              "\n",
              "    .dataframe thead th {\n",
              "        text-align: right;\n",
              "    }\n",
              "</style>\n",
              "<table border=\"1\" class=\"dataframe\">\n",
              "  <thead>\n",
              "    <tr style=\"text-align: right;\">\n",
              "      <th></th>\n",
              "      <th>Carbohydrate</th>\n",
              "      <th>Type</th>\n",
              "      <th>Subtype</th>\n",
              "    </tr>\n",
              "  </thead>\n",
              "  <tbody>\n",
              "    <tr>\n",
              "      <th>0</th>\n",
              "      <td>D-Glyceraldehyde</td>\n",
              "      <td>Monosaccharides</td>\n",
              "      <td>aldose</td>\n",
              "    </tr>\n",
              "    <tr>\n",
              "      <th>1</th>\n",
              "      <td>L-Glyceraldehyde</td>\n",
              "      <td>Monosaccharides</td>\n",
              "      <td>aldose</td>\n",
              "    </tr>\n",
              "    <tr>\n",
              "      <th>2</th>\n",
              "      <td>D-Erythrose</td>\n",
              "      <td>Monosaccharides</td>\n",
              "      <td>aldose</td>\n",
              "    </tr>\n",
              "    <tr>\n",
              "      <th>3</th>\n",
              "      <td>D-Threose</td>\n",
              "      <td>Monosaccharides</td>\n",
              "      <td>aldose</td>\n",
              "    </tr>\n",
              "    <tr>\n",
              "      <th>4</th>\n",
              "      <td>D-Arabinose</td>\n",
              "      <td>Monosaccharides</td>\n",
              "      <td>aldose</td>\n",
              "    </tr>\n",
              "    <tr>\n",
              "      <th>5</th>\n",
              "      <td>L-Arabinose</td>\n",
              "      <td>Monosaccharides</td>\n",
              "      <td>aldose</td>\n",
              "    </tr>\n",
              "    <tr>\n",
              "      <th>6</th>\n",
              "      <td>D-Xylose</td>\n",
              "      <td>Monosaccharides</td>\n",
              "      <td>aldose</td>\n",
              "    </tr>\n",
              "    <tr>\n",
              "      <th>7</th>\n",
              "      <td>L-Xylose</td>\n",
              "      <td>Monosaccharides</td>\n",
              "      <td>aldose</td>\n",
              "    </tr>\n",
              "    <tr>\n",
              "      <th>8</th>\n",
              "      <td>D-Lyxose</td>\n",
              "      <td>Monosaccharides</td>\n",
              "      <td>aldose</td>\n",
              "    </tr>\n",
              "    <tr>\n",
              "      <th>9</th>\n",
              "      <td>L-Lyxose</td>\n",
              "      <td>Monosaccharides</td>\n",
              "      <td>aldose</td>\n",
              "    </tr>\n",
              "  </tbody>\n",
              "</table>\n",
              "</div>\n",
              "      <button class=\"colab-df-convert\" onclick=\"convertToInteractive('df-52da8bfc-a5b4-455f-896f-28aabbc83c76')\"\n",
              "              title=\"Convert this dataframe to an interactive table.\"\n",
              "              style=\"display:none;\">\n",
              "        \n",
              "  <svg xmlns=\"http://www.w3.org/2000/svg\" height=\"24px\"viewBox=\"0 0 24 24\"\n",
              "       width=\"24px\">\n",
              "    <path d=\"M0 0h24v24H0V0z\" fill=\"none\"/>\n",
              "    <path d=\"M18.56 5.44l.94 2.06.94-2.06 2.06-.94-2.06-.94-.94-2.06-.94 2.06-2.06.94zm-11 1L8.5 8.5l.94-2.06 2.06-.94-2.06-.94L8.5 2.5l-.94 2.06-2.06.94zm10 10l.94 2.06.94-2.06 2.06-.94-2.06-.94-.94-2.06-.94 2.06-2.06.94z\"/><path d=\"M17.41 7.96l-1.37-1.37c-.4-.4-.92-.59-1.43-.59-.52 0-1.04.2-1.43.59L10.3 9.45l-7.72 7.72c-.78.78-.78 2.05 0 2.83L4 21.41c.39.39.9.59 1.41.59.51 0 1.02-.2 1.41-.59l7.78-7.78 2.81-2.81c.8-.78.8-2.07 0-2.86zM5.41 20L4 18.59l7.72-7.72 1.47 1.35L5.41 20z\"/>\n",
              "  </svg>\n",
              "      </button>\n",
              "      \n",
              "  <style>\n",
              "    .colab-df-container {\n",
              "      display:flex;\n",
              "      flex-wrap:wrap;\n",
              "      gap: 12px;\n",
              "    }\n",
              "\n",
              "    .colab-df-convert {\n",
              "      background-color: #E8F0FE;\n",
              "      border: none;\n",
              "      border-radius: 50%;\n",
              "      cursor: pointer;\n",
              "      display: none;\n",
              "      fill: #1967D2;\n",
              "      height: 32px;\n",
              "      padding: 0 0 0 0;\n",
              "      width: 32px;\n",
              "    }\n",
              "\n",
              "    .colab-df-convert:hover {\n",
              "      background-color: #E2EBFA;\n",
              "      box-shadow: 0px 1px 2px rgba(60, 64, 67, 0.3), 0px 1px 3px 1px rgba(60, 64, 67, 0.15);\n",
              "      fill: #174EA6;\n",
              "    }\n",
              "\n",
              "    [theme=dark] .colab-df-convert {\n",
              "      background-color: #3B4455;\n",
              "      fill: #D2E3FC;\n",
              "    }\n",
              "\n",
              "    [theme=dark] .colab-df-convert:hover {\n",
              "      background-color: #434B5C;\n",
              "      box-shadow: 0px 1px 3px 1px rgba(0, 0, 0, 0.15);\n",
              "      filter: drop-shadow(0px 1px 2px rgba(0, 0, 0, 0.3));\n",
              "      fill: #FFFFFF;\n",
              "    }\n",
              "  </style>\n",
              "\n",
              "      <script>\n",
              "        const buttonEl =\n",
              "          document.querySelector('#df-52da8bfc-a5b4-455f-896f-28aabbc83c76 button.colab-df-convert');\n",
              "        buttonEl.style.display =\n",
              "          google.colab.kernel.accessAllowed ? 'block' : 'none';\n",
              "\n",
              "        async function convertToInteractive(key) {\n",
              "          const element = document.querySelector('#df-52da8bfc-a5b4-455f-896f-28aabbc83c76');\n",
              "          const dataTable =\n",
              "            await google.colab.kernel.invokeFunction('convertToInteractive',\n",
              "                                                     [key], {});\n",
              "          if (!dataTable) return;\n",
              "\n",
              "          const docLinkHtml = 'Like what you see? Visit the ' +\n",
              "            '<a target=\"_blank\" href=https://colab.research.google.com/notebooks/data_table.ipynb>data table notebook</a>'\n",
              "            + ' to learn more about interactive tables.';\n",
              "          element.innerHTML = '';\n",
              "          dataTable['output_type'] = 'display_data';\n",
              "          await google.colab.output.renderOutput(dataTable, element);\n",
              "          const docLink = document.createElement('div');\n",
              "          docLink.innerHTML = docLinkHtml;\n",
              "          element.appendChild(docLink);\n",
              "        }\n",
              "      </script>\n",
              "    </div>\n",
              "  </div>\n",
              "  "
            ]
          },
          "metadata": {},
          "execution_count": 5
        }
      ]
    },
    {
      "cell_type": "markdown",
      "source": [
        "**Función para la busqueda de SMILES**\n",
        "\n",
        "Modificando el nombre de la molecula en la url se obtiene el smile de la base de datos cactus"
      ],
      "metadata": {
        "id": "26bSCBvjWy5J"
      }
    },
    {
      "cell_type": "code",
      "source": [
        "def getSmiles(nombre):\n",
        "    try:\n",
        "        url = 'http://cactus.nci.nih.gov/chemical/structure/' + quote(nombre) + '/smiles'\n",
        "        ans = urlopen(url).read().decode('utf8')\n",
        "        return ans\n",
        "    except:\n",
        "        return 'No SMILE'"
      ],
      "metadata": {
        "id": "_kNT857wWTny"
      },
      "execution_count": null,
      "outputs": []
    },
    {
      "cell_type": "markdown",
      "source": [
        "Realizar la busqueda de los smiles de las moleculas utilizando la función anterior"
      ],
      "metadata": {
        "id": "T8n7edX8_aJq"
      }
    },
    {
      "cell_type": "code",
      "source": [
        "SMILES = []\n",
        "molecules =  list(data_frame['Carbohydrate'])\n",
        "for i in molecules :\n",
        "    smile = getSmiles(i)\n",
        "    SMILES.append(smile)\n",
        "    print(i, smile)"
      ],
      "metadata": {
        "id": "hmMt_ZeiXLdX",
        "colab": {
          "base_uri": "https://localhost:8080/"
        },
        "outputId": "e8cabbdc-ecd2-4221-cfdc-a5d4dda39fe0"
      },
      "execution_count": null,
      "outputs": [
        {
          "output_type": "stream",
          "name": "stdout",
          "text": [
            "D-Glyceraldehyde OC[C@@H](O)C=O\n",
            "L-Glyceraldehyde OC[C@H](O)C=O\n",
            "D-Erythrose OC[C@@H](O)[C@@H](O)C=O\n",
            "D-Threose OC[C@@H](O)[C@H](O)C=O\n",
            "D-Arabinose OC[C@@H](O)[C@@H](O)[C@H](O)C=O\n",
            "L-Arabinose OC[C@H](O)[C@H](O)[C@@H](O)C=O\n",
            "D-Xylose OC[C@@H](O)[C@H](O)[C@@H](O)C=O\n",
            "L-Xylose OC[C@H](O)[C@@H](O)[C@H](O)C=O\n",
            "D-Lyxose OC[C@@H](O)[C@H](O)[C@H](O)C=O\n",
            "L-Lyxose OC[C@H](O)[C@@H](O)[C@@H](O)C=O\n"
          ]
        }
      ]
    },
    {
      "cell_type": "markdown",
      "source": [
        "Se crea un data frame en el que se juntan el nombre del lipido con su respectivo SMILE y se guardan en un archivo excel"
      ],
      "metadata": {
        "id": "tJzX9BvmX1G3"
      }
    },
    {
      "cell_type": "code",
      "source": [
        "data_frame ['Smiles'] = SMILES\n",
        "data_frame"
      ],
      "metadata": {
        "id": "8YJXeHDzXW_x",
        "colab": {
          "base_uri": "https://localhost:8080/",
          "height": 407
        },
        "outputId": "a1e8f463-5c27-45bf-bdf9-f13429b7497d"
      },
      "execution_count": null,
      "outputs": [
        {
          "output_type": "execute_result",
          "data": {
            "text/plain": [
              "       Carbohydrate             Type Subtype                           Smiles\n",
              "0  D-Glyceraldehyde  Monosaccharides  aldose                   OC[C@@H](O)C=O\n",
              "1  L-Glyceraldehyde  Monosaccharides  aldose                    OC[C@H](O)C=O\n",
              "2       D-Erythrose  Monosaccharides  aldose          OC[C@@H](O)[C@@H](O)C=O\n",
              "3         D-Threose  Monosaccharides  aldose           OC[C@@H](O)[C@H](O)C=O\n",
              "4       D-Arabinose  Monosaccharides  aldose  OC[C@@H](O)[C@@H](O)[C@H](O)C=O\n",
              "5       L-Arabinose  Monosaccharides  aldose   OC[C@H](O)[C@H](O)[C@@H](O)C=O\n",
              "6          D-Xylose  Monosaccharides  aldose  OC[C@@H](O)[C@H](O)[C@@H](O)C=O\n",
              "7          L-Xylose  Monosaccharides  aldose   OC[C@H](O)[C@@H](O)[C@H](O)C=O\n",
              "8          D-Lyxose  Monosaccharides  aldose   OC[C@@H](O)[C@H](O)[C@H](O)C=O\n",
              "9          L-Lyxose  Monosaccharides  aldose  OC[C@H](O)[C@@H](O)[C@@H](O)C=O"
            ],
            "text/html": [
              "\n",
              "  <div id=\"df-68c00280-c23c-45e6-95cf-e7db8f50a911\">\n",
              "    <div class=\"colab-df-container\">\n",
              "      <div>\n",
              "<style scoped>\n",
              "    .dataframe tbody tr th:only-of-type {\n",
              "        vertical-align: middle;\n",
              "    }\n",
              "\n",
              "    .dataframe tbody tr th {\n",
              "        vertical-align: top;\n",
              "    }\n",
              "\n",
              "    .dataframe thead th {\n",
              "        text-align: right;\n",
              "    }\n",
              "</style>\n",
              "<table border=\"1\" class=\"dataframe\">\n",
              "  <thead>\n",
              "    <tr style=\"text-align: right;\">\n",
              "      <th></th>\n",
              "      <th>Carbohydrate</th>\n",
              "      <th>Type</th>\n",
              "      <th>Subtype</th>\n",
              "      <th>Smiles</th>\n",
              "    </tr>\n",
              "  </thead>\n",
              "  <tbody>\n",
              "    <tr>\n",
              "      <th>0</th>\n",
              "      <td>D-Glyceraldehyde</td>\n",
              "      <td>Monosaccharides</td>\n",
              "      <td>aldose</td>\n",
              "      <td>OC[C@@H](O)C=O</td>\n",
              "    </tr>\n",
              "    <tr>\n",
              "      <th>1</th>\n",
              "      <td>L-Glyceraldehyde</td>\n",
              "      <td>Monosaccharides</td>\n",
              "      <td>aldose</td>\n",
              "      <td>OC[C@H](O)C=O</td>\n",
              "    </tr>\n",
              "    <tr>\n",
              "      <th>2</th>\n",
              "      <td>D-Erythrose</td>\n",
              "      <td>Monosaccharides</td>\n",
              "      <td>aldose</td>\n",
              "      <td>OC[C@@H](O)[C@@H](O)C=O</td>\n",
              "    </tr>\n",
              "    <tr>\n",
              "      <th>3</th>\n",
              "      <td>D-Threose</td>\n",
              "      <td>Monosaccharides</td>\n",
              "      <td>aldose</td>\n",
              "      <td>OC[C@@H](O)[C@H](O)C=O</td>\n",
              "    </tr>\n",
              "    <tr>\n",
              "      <th>4</th>\n",
              "      <td>D-Arabinose</td>\n",
              "      <td>Monosaccharides</td>\n",
              "      <td>aldose</td>\n",
              "      <td>OC[C@@H](O)[C@@H](O)[C@H](O)C=O</td>\n",
              "    </tr>\n",
              "    <tr>\n",
              "      <th>5</th>\n",
              "      <td>L-Arabinose</td>\n",
              "      <td>Monosaccharides</td>\n",
              "      <td>aldose</td>\n",
              "      <td>OC[C@H](O)[C@H](O)[C@@H](O)C=O</td>\n",
              "    </tr>\n",
              "    <tr>\n",
              "      <th>6</th>\n",
              "      <td>D-Xylose</td>\n",
              "      <td>Monosaccharides</td>\n",
              "      <td>aldose</td>\n",
              "      <td>OC[C@@H](O)[C@H](O)[C@@H](O)C=O</td>\n",
              "    </tr>\n",
              "    <tr>\n",
              "      <th>7</th>\n",
              "      <td>L-Xylose</td>\n",
              "      <td>Monosaccharides</td>\n",
              "      <td>aldose</td>\n",
              "      <td>OC[C@H](O)[C@@H](O)[C@H](O)C=O</td>\n",
              "    </tr>\n",
              "    <tr>\n",
              "      <th>8</th>\n",
              "      <td>D-Lyxose</td>\n",
              "      <td>Monosaccharides</td>\n",
              "      <td>aldose</td>\n",
              "      <td>OC[C@@H](O)[C@H](O)[C@H](O)C=O</td>\n",
              "    </tr>\n",
              "    <tr>\n",
              "      <th>9</th>\n",
              "      <td>L-Lyxose</td>\n",
              "      <td>Monosaccharides</td>\n",
              "      <td>aldose</td>\n",
              "      <td>OC[C@H](O)[C@@H](O)[C@@H](O)C=O</td>\n",
              "    </tr>\n",
              "  </tbody>\n",
              "</table>\n",
              "</div>\n",
              "      <button class=\"colab-df-convert\" onclick=\"convertToInteractive('df-68c00280-c23c-45e6-95cf-e7db8f50a911')\"\n",
              "              title=\"Convert this dataframe to an interactive table.\"\n",
              "              style=\"display:none;\">\n",
              "        \n",
              "  <svg xmlns=\"http://www.w3.org/2000/svg\" height=\"24px\"viewBox=\"0 0 24 24\"\n",
              "       width=\"24px\">\n",
              "    <path d=\"M0 0h24v24H0V0z\" fill=\"none\"/>\n",
              "    <path d=\"M18.56 5.44l.94 2.06.94-2.06 2.06-.94-2.06-.94-.94-2.06-.94 2.06-2.06.94zm-11 1L8.5 8.5l.94-2.06 2.06-.94-2.06-.94L8.5 2.5l-.94 2.06-2.06.94zm10 10l.94 2.06.94-2.06 2.06-.94-2.06-.94-.94-2.06-.94 2.06-2.06.94z\"/><path d=\"M17.41 7.96l-1.37-1.37c-.4-.4-.92-.59-1.43-.59-.52 0-1.04.2-1.43.59L10.3 9.45l-7.72 7.72c-.78.78-.78 2.05 0 2.83L4 21.41c.39.39.9.59 1.41.59.51 0 1.02-.2 1.41-.59l7.78-7.78 2.81-2.81c.8-.78.8-2.07 0-2.86zM5.41 20L4 18.59l7.72-7.72 1.47 1.35L5.41 20z\"/>\n",
              "  </svg>\n",
              "      </button>\n",
              "      \n",
              "  <style>\n",
              "    .colab-df-container {\n",
              "      display:flex;\n",
              "      flex-wrap:wrap;\n",
              "      gap: 12px;\n",
              "    }\n",
              "\n",
              "    .colab-df-convert {\n",
              "      background-color: #E8F0FE;\n",
              "      border: none;\n",
              "      border-radius: 50%;\n",
              "      cursor: pointer;\n",
              "      display: none;\n",
              "      fill: #1967D2;\n",
              "      height: 32px;\n",
              "      padding: 0 0 0 0;\n",
              "      width: 32px;\n",
              "    }\n",
              "\n",
              "    .colab-df-convert:hover {\n",
              "      background-color: #E2EBFA;\n",
              "      box-shadow: 0px 1px 2px rgba(60, 64, 67, 0.3), 0px 1px 3px 1px rgba(60, 64, 67, 0.15);\n",
              "      fill: #174EA6;\n",
              "    }\n",
              "\n",
              "    [theme=dark] .colab-df-convert {\n",
              "      background-color: #3B4455;\n",
              "      fill: #D2E3FC;\n",
              "    }\n",
              "\n",
              "    [theme=dark] .colab-df-convert:hover {\n",
              "      background-color: #434B5C;\n",
              "      box-shadow: 0px 1px 3px 1px rgba(0, 0, 0, 0.15);\n",
              "      filter: drop-shadow(0px 1px 2px rgba(0, 0, 0, 0.3));\n",
              "      fill: #FFFFFF;\n",
              "    }\n",
              "  </style>\n",
              "\n",
              "      <script>\n",
              "        const buttonEl =\n",
              "          document.querySelector('#df-68c00280-c23c-45e6-95cf-e7db8f50a911 button.colab-df-convert');\n",
              "        buttonEl.style.display =\n",
              "          google.colab.kernel.accessAllowed ? 'block' : 'none';\n",
              "\n",
              "        async function convertToInteractive(key) {\n",
              "          const element = document.querySelector('#df-68c00280-c23c-45e6-95cf-e7db8f50a911');\n",
              "          const dataTable =\n",
              "            await google.colab.kernel.invokeFunction('convertToInteractive',\n",
              "                                                     [key], {});\n",
              "          if (!dataTable) return;\n",
              "\n",
              "          const docLinkHtml = 'Like what you see? Visit the ' +\n",
              "            '<a target=\"_blank\" href=https://colab.research.google.com/notebooks/data_table.ipynb>data table notebook</a>'\n",
              "            + ' to learn more about interactive tables.';\n",
              "          element.innerHTML = '';\n",
              "          dataTable['output_type'] = 'display_data';\n",
              "          await google.colab.output.renderOutput(dataTable, element);\n",
              "          const docLink = document.createElement('div');\n",
              "          docLink.innerHTML = docLinkHtml;\n",
              "          element.appendChild(docLink);\n",
              "        }\n",
              "      </script>\n",
              "    </div>\n",
              "  </div>\n",
              "  "
            ]
          },
          "metadata": {},
          "execution_count": 8
        }
      ]
    },
    {
      "cell_type": "code",
      "source": [
        "data_frame.to_excel('Carbohydrates_smiles_test.xlsx', sheet_name='smiles')"
      ],
      "metadata": {
        "id": "KBps7vHO6WkI"
      },
      "execution_count": null,
      "outputs": []
    },
    {
      "cell_type": "markdown",
      "source": [
        "# **CARGAR LOS DATOS COMPLETOS**"
      ],
      "metadata": {
        "id": "GmYrGSjGZ5wi"
      }
    },
    {
      "cell_type": "markdown",
      "source": [
        "Para poder analizar los datos es necesario instalar la librería RDKit, para analisis de datos químicos"
      ],
      "metadata": {
        "id": "87b6nbOFaQbn"
      }
    },
    {
      "cell_type": "code",
      "source": [
        "new_file = '/content/Carbohydrates_smiles.xlsx'\n",
        "data = pd.read_excel(new_file, sheet_name='smiles')\n",
        "data"
      ],
      "metadata": {
        "id": "jvanul2TYR5g",
        "colab": {
          "base_uri": "https://localhost:8080/",
          "height": 540
        },
        "outputId": "a6e08989-11bd-4f0f-d98c-214d020c1a64"
      },
      "execution_count": null,
      "outputs": [
        {
          "output_type": "execute_result",
          "data": {
            "text/plain": [
              "                 Carbohydrate             Type                Subtype  \\\n",
              "0            D-Glyceraldehyde  Monosaccharides                 aldose   \n",
              "1            L-Glyceraldehyde  Monosaccharides                 aldose   \n",
              "2                 D-Erythrose  Monosaccharides                 aldose   \n",
              "3                   D-Threose  Monosaccharides                 aldose   \n",
              "4                 D-Arabinose  Monosaccharides                 aldose   \n",
              "..                        ...              ...                    ...   \n",
              "107               Glucomannan  Polysaccharides  Heteropolysaccharides   \n",
              "108                Xyloglucan  Polysaccharides  Heteropolysaccharides   \n",
              "109  4-O-Methylglucuronoxylan  Polysaccharides  Heteropolysaccharides   \n",
              "110               Chondroitin  Polysaccharides  Heteropolysaccharides   \n",
              "111               Alginicacid  Polysaccharides  Heteropolysaccharides   \n",
              "\n",
              "                                                Smiles  \n",
              "0                                       OC[C@@H](O)C=O  \n",
              "1                                        OC[C@H](O)C=O  \n",
              "2                              OC[C@@H](O)[C@@H](O)C=O  \n",
              "3                               OC[C@@H](O)[C@H](O)C=O  \n",
              "4                      OC[C@@H](O)[C@@H](O)[C@H](O)C=O  \n",
              "..                                                 ...  \n",
              "107  C([C@@H]1[C@H]([C@@H]([C@@H]([C@@H](O1)O[C@@H]...  \n",
              "108  COC1=C(C=CC(=C1)/C=C/C(=O)O[C@@H]2CO[C@@H]([C@...  \n",
              "109  CC1C(C(C(C(O1)OC2C(C(COC2OC3C(COC(C3O)O)OC4C(C...  \n",
              "110  CC(=O)N[C@H]1[C@H]([C@H]([C@H](O[C@H]1O)CO)O)O...  \n",
              "111                    CC1=C([N+](=CC=C1)[O-])COC(=O)C  \n",
              "\n",
              "[112 rows x 4 columns]"
            ],
            "text/html": [
              "\n",
              "  <div id=\"df-c785b063-2a72-4218-a692-946e37c45925\">\n",
              "    <div class=\"colab-df-container\">\n",
              "      <div>\n",
              "<style scoped>\n",
              "    .dataframe tbody tr th:only-of-type {\n",
              "        vertical-align: middle;\n",
              "    }\n",
              "\n",
              "    .dataframe tbody tr th {\n",
              "        vertical-align: top;\n",
              "    }\n",
              "\n",
              "    .dataframe thead th {\n",
              "        text-align: right;\n",
              "    }\n",
              "</style>\n",
              "<table border=\"1\" class=\"dataframe\">\n",
              "  <thead>\n",
              "    <tr style=\"text-align: right;\">\n",
              "      <th></th>\n",
              "      <th>Carbohydrate</th>\n",
              "      <th>Type</th>\n",
              "      <th>Subtype</th>\n",
              "      <th>Smiles</th>\n",
              "    </tr>\n",
              "  </thead>\n",
              "  <tbody>\n",
              "    <tr>\n",
              "      <th>0</th>\n",
              "      <td>D-Glyceraldehyde</td>\n",
              "      <td>Monosaccharides</td>\n",
              "      <td>aldose</td>\n",
              "      <td>OC[C@@H](O)C=O</td>\n",
              "    </tr>\n",
              "    <tr>\n",
              "      <th>1</th>\n",
              "      <td>L-Glyceraldehyde</td>\n",
              "      <td>Monosaccharides</td>\n",
              "      <td>aldose</td>\n",
              "      <td>OC[C@H](O)C=O</td>\n",
              "    </tr>\n",
              "    <tr>\n",
              "      <th>2</th>\n",
              "      <td>D-Erythrose</td>\n",
              "      <td>Monosaccharides</td>\n",
              "      <td>aldose</td>\n",
              "      <td>OC[C@@H](O)[C@@H](O)C=O</td>\n",
              "    </tr>\n",
              "    <tr>\n",
              "      <th>3</th>\n",
              "      <td>D-Threose</td>\n",
              "      <td>Monosaccharides</td>\n",
              "      <td>aldose</td>\n",
              "      <td>OC[C@@H](O)[C@H](O)C=O</td>\n",
              "    </tr>\n",
              "    <tr>\n",
              "      <th>4</th>\n",
              "      <td>D-Arabinose</td>\n",
              "      <td>Monosaccharides</td>\n",
              "      <td>aldose</td>\n",
              "      <td>OC[C@@H](O)[C@@H](O)[C@H](O)C=O</td>\n",
              "    </tr>\n",
              "    <tr>\n",
              "      <th>...</th>\n",
              "      <td>...</td>\n",
              "      <td>...</td>\n",
              "      <td>...</td>\n",
              "      <td>...</td>\n",
              "    </tr>\n",
              "    <tr>\n",
              "      <th>107</th>\n",
              "      <td>Glucomannan</td>\n",
              "      <td>Polysaccharides</td>\n",
              "      <td>Heteropolysaccharides</td>\n",
              "      <td>C([C@@H]1[C@H]([C@@H]([C@@H]([C@@H](O1)O[C@@H]...</td>\n",
              "    </tr>\n",
              "    <tr>\n",
              "      <th>108</th>\n",
              "      <td>Xyloglucan</td>\n",
              "      <td>Polysaccharides</td>\n",
              "      <td>Heteropolysaccharides</td>\n",
              "      <td>COC1=C(C=CC(=C1)/C=C/C(=O)O[C@@H]2CO[C@@H]([C@...</td>\n",
              "    </tr>\n",
              "    <tr>\n",
              "      <th>109</th>\n",
              "      <td>4-O-Methylglucuronoxylan</td>\n",
              "      <td>Polysaccharides</td>\n",
              "      <td>Heteropolysaccharides</td>\n",
              "      <td>CC1C(C(C(C(O1)OC2C(C(COC2OC3C(COC(C3O)O)OC4C(C...</td>\n",
              "    </tr>\n",
              "    <tr>\n",
              "      <th>110</th>\n",
              "      <td>Chondroitin</td>\n",
              "      <td>Polysaccharides</td>\n",
              "      <td>Heteropolysaccharides</td>\n",
              "      <td>CC(=O)N[C@H]1[C@H]([C@H]([C@H](O[C@H]1O)CO)O)O...</td>\n",
              "    </tr>\n",
              "    <tr>\n",
              "      <th>111</th>\n",
              "      <td>Alginicacid</td>\n",
              "      <td>Polysaccharides</td>\n",
              "      <td>Heteropolysaccharides</td>\n",
              "      <td>CC1=C([N+](=CC=C1)[O-])COC(=O)C</td>\n",
              "    </tr>\n",
              "  </tbody>\n",
              "</table>\n",
              "<p>112 rows × 4 columns</p>\n",
              "</div>\n",
              "      <button class=\"colab-df-convert\" onclick=\"convertToInteractive('df-c785b063-2a72-4218-a692-946e37c45925')\"\n",
              "              title=\"Convert this dataframe to an interactive table.\"\n",
              "              style=\"display:none;\">\n",
              "        \n",
              "  <svg xmlns=\"http://www.w3.org/2000/svg\" height=\"24px\"viewBox=\"0 0 24 24\"\n",
              "       width=\"24px\">\n",
              "    <path d=\"M0 0h24v24H0V0z\" fill=\"none\"/>\n",
              "    <path d=\"M18.56 5.44l.94 2.06.94-2.06 2.06-.94-2.06-.94-.94-2.06-.94 2.06-2.06.94zm-11 1L8.5 8.5l.94-2.06 2.06-.94-2.06-.94L8.5 2.5l-.94 2.06-2.06.94zm10 10l.94 2.06.94-2.06 2.06-.94-2.06-.94-.94-2.06-.94 2.06-2.06.94z\"/><path d=\"M17.41 7.96l-1.37-1.37c-.4-.4-.92-.59-1.43-.59-.52 0-1.04.2-1.43.59L10.3 9.45l-7.72 7.72c-.78.78-.78 2.05 0 2.83L4 21.41c.39.39.9.59 1.41.59.51 0 1.02-.2 1.41-.59l7.78-7.78 2.81-2.81c.8-.78.8-2.07 0-2.86zM5.41 20L4 18.59l7.72-7.72 1.47 1.35L5.41 20z\"/>\n",
              "  </svg>\n",
              "      </button>\n",
              "      \n",
              "  <style>\n",
              "    .colab-df-container {\n",
              "      display:flex;\n",
              "      flex-wrap:wrap;\n",
              "      gap: 12px;\n",
              "    }\n",
              "\n",
              "    .colab-df-convert {\n",
              "      background-color: #E8F0FE;\n",
              "      border: none;\n",
              "      border-radius: 50%;\n",
              "      cursor: pointer;\n",
              "      display: none;\n",
              "      fill: #1967D2;\n",
              "      height: 32px;\n",
              "      padding: 0 0 0 0;\n",
              "      width: 32px;\n",
              "    }\n",
              "\n",
              "    .colab-df-convert:hover {\n",
              "      background-color: #E2EBFA;\n",
              "      box-shadow: 0px 1px 2px rgba(60, 64, 67, 0.3), 0px 1px 3px 1px rgba(60, 64, 67, 0.15);\n",
              "      fill: #174EA6;\n",
              "    }\n",
              "\n",
              "    [theme=dark] .colab-df-convert {\n",
              "      background-color: #3B4455;\n",
              "      fill: #D2E3FC;\n",
              "    }\n",
              "\n",
              "    [theme=dark] .colab-df-convert:hover {\n",
              "      background-color: #434B5C;\n",
              "      box-shadow: 0px 1px 3px 1px rgba(0, 0, 0, 0.15);\n",
              "      filter: drop-shadow(0px 1px 2px rgba(0, 0, 0, 0.3));\n",
              "      fill: #FFFFFF;\n",
              "    }\n",
              "  </style>\n",
              "\n",
              "      <script>\n",
              "        const buttonEl =\n",
              "          document.querySelector('#df-c785b063-2a72-4218-a692-946e37c45925 button.colab-df-convert');\n",
              "        buttonEl.style.display =\n",
              "          google.colab.kernel.accessAllowed ? 'block' : 'none';\n",
              "\n",
              "        async function convertToInteractive(key) {\n",
              "          const element = document.querySelector('#df-c785b063-2a72-4218-a692-946e37c45925');\n",
              "          const dataTable =\n",
              "            await google.colab.kernel.invokeFunction('convertToInteractive',\n",
              "                                                     [key], {});\n",
              "          if (!dataTable) return;\n",
              "\n",
              "          const docLinkHtml = 'Like what you see? Visit the ' +\n",
              "            '<a target=\"_blank\" href=https://colab.research.google.com/notebooks/data_table.ipynb>data table notebook</a>'\n",
              "            + ' to learn more about interactive tables.';\n",
              "          element.innerHTML = '';\n",
              "          dataTable['output_type'] = 'display_data';\n",
              "          await google.colab.output.renderOutput(dataTable, element);\n",
              "          const docLink = document.createElement('div');\n",
              "          docLink.innerHTML = docLinkHtml;\n",
              "          element.appendChild(docLink);\n",
              "        }\n",
              "      </script>\n",
              "    </div>\n",
              "  </div>\n",
              "  "
            ]
          },
          "metadata": {},
          "execution_count": 10
        }
      ]
    },
    {
      "cell_type": "markdown",
      "source": [
        "Una vez cargados los datos es una buena práctica hacer un paneo de la catidad y tipo de datos que se tienen. Para esto primero exploramos la columna \"Type\" del data frame"
      ],
      "metadata": {
        "id": "uL_Adf8Ebk9s"
      }
    },
    {
      "cell_type": "code",
      "source": [
        "count_type = data['Type'].value_counts()[:10]\n",
        "count_type.plot(kind='barh')\n",
        "count_type"
      ],
      "metadata": {
        "id": "uB4c8O1qaMuN",
        "colab": {
          "base_uri": "https://localhost:8080/",
          "height": 334
        },
        "outputId": "1b53d87e-1626-44b5-bffd-56916823999d"
      },
      "execution_count": null,
      "outputs": [
        {
          "output_type": "execute_result",
          "data": {
            "text/plain": [
              "Monosaccharides      77\n",
              "Oligosaccharides     23\n",
              "Polysaccharides      12\n",
              "Name: Type, dtype: int64"
            ]
          },
          "metadata": {},
          "execution_count": 11
        },
        {
          "output_type": "display_data",
          "data": {
            "text/plain": [
              "<Figure size 432x288 with 1 Axes>"
            ],
            "image/png": "[encoded data removed]"
          },
          "metadata": {
            "needs_background": "light"
          }
        }
      ]
    },
    {
      "cell_type": "markdown",
      "source": [
        "Ahora exploramos la columna \"subtype\", especificamente los datos correspondientes a los monosacaridos, que son los que tienen mayor diversidad"
      ],
      "metadata": {
        "id": "-VX0ggfEdMmh"
      }
    },
    {
      "cell_type": "code",
      "source": [
        "Monosaccharides = data.iloc[:77]\n",
        "count_subtype = Monosaccharides['Subtype'].value_counts()[:10]\n",
        "count_subtype.plot(kind='barh')\n",
        "count_subtype"
      ],
      "metadata": {
        "id": "ofzwN0_KeLak",
        "colab": {
          "base_uri": "https://localhost:8080/",
          "height": 386
        },
        "outputId": "29787472-99a4-46d6-a5a3-631ea2517443"
      },
      "execution_count": null,
      "outputs": [
        {
          "output_type": "execute_result",
          "data": {
            "text/plain": [
              "aldose           23\n",
              "Ketose           15\n",
              "Aminosugars      14\n",
              "Sugaracids       11\n",
              "Deoxysugars       9\n",
              "Sugaralcohols     5\n",
              "Name: Subtype, dtype: int64"
            ]
          },
          "metadata": {},
          "execution_count": 12
        },
        {
          "output_type": "display_data",
          "data": {
            "text/plain": [
              "<Figure size 432x288 with 1 Axes>"
            ],
            "image/png": "[encoded data removed]"
          },
          "metadata": {
            "needs_background": "light"
          }
        }
      ]
    },
    {
      "cell_type": "markdown",
      "source": [
        "El siguiente paso es analizar los datos correspondientes a oligosacaridos. Para esto se cargan solo los datos desde la fila 77 a la 100"
      ],
      "metadata": {
        "id": "VFcd6OS3ApsD"
      }
    },
    {
      "cell_type": "code",
      "source": [
        "Oligosaccharides = data.iloc[77:100]\n",
        "count_subtype_o = Oligosaccharides['Subtype'].value_counts()[:10]\n",
        "count_subtype_o.plot(kind='barh')\n",
        "count_subtype_o"
      ],
      "metadata": {
        "id": "TUS3iOnReIwV",
        "colab": {
          "base_uri": "https://localhost:8080/",
          "height": 317
        },
        "outputId": "bfd77438-df65-45f7-be05-b83b556f7e67"
      },
      "execution_count": null,
      "outputs": [
        {
          "output_type": "execute_result",
          "data": {
            "text/plain": [
              "Disaccharides       22\n",
              "Tetrasaccharides     1\n",
              "Name: Subtype, dtype: int64"
            ]
          },
          "metadata": {},
          "execution_count": 13
        },
        {
          "output_type": "display_data",
          "data": {
            "text/plain": [
              "<Figure size 432x288 with 1 Axes>"
            ],
            "image/png": "[encoded data removed]"
          },
          "metadata": {
            "needs_background": "light"
          }
        }
      ]
    },
    {
      "cell_type": "markdown",
      "source": [
        "Finalmente se revisan los datos correspondiente a los polisacaridos"
      ],
      "metadata": {
        "id": "IiUFGynnA4IV"
      }
    },
    {
      "cell_type": "code",
      "source": [
        "Polysaccharides = data.iloc[100:]\n",
        "count_subtype_p = Polysaccharides ['Subtype'].value_counts()[:10]\n",
        "count_subtype_p.plot(kind='barh')\n",
        "count_subtype_p"
      ],
      "metadata": {
        "id": "QDMJd1Vme1dI",
        "colab": {
          "base_uri": "https://localhost:8080/",
          "height": 317
        },
        "outputId": "5ed78333-9039-47da-bd49-905a70362ec0"
      },
      "execution_count": null,
      "outputs": [
        {
          "output_type": "execute_result",
          "data": {
            "text/plain": [
              "Homopolysaccharides      7\n",
              "Heteropolysaccharides    5\n",
              "Name: Subtype, dtype: int64"
            ]
          },
          "metadata": {},
          "execution_count": 14
        },
        {
          "output_type": "display_data",
          "data": {
            "text/plain": [
              "<Figure size 432x288 with 1 Axes>"
            ],
            "image/png": "[encoded data removed]"
          },
          "metadata": {
            "needs_background": "light"
          }
        }
      ]
    },
    {
      "cell_type": "markdown",
      "source": [
        "# ANALIZANDO LAS CARATERISTICAS ESTRUCTURALES Y FISICOQUÍMICAS DE CARBOHYDARTOS"
      ],
      "metadata": {
        "id": "rjhKipsiCOpV"
      }
    },
    {
      "cell_type": "markdown",
      "source": [
        "RDKit permite general la estructura de una molecula a partir de su smiles, que es una codificación de la estructura quimica en forma de texto\n",
        "\n",
        "https://en.wikipedia.org/wiki/Simplified_molecular-input_line-entry_system"
      ],
      "metadata": {
        "id": "r8_xHDDQOUXY"
      }
    },
    {
      "cell_type": "code",
      "source": [
        "all_smiles = data ['Smiles']\n",
        "mol = random.choice(all_smiles)\n",
        "structure = Chem.MolFromSmiles(mol)\n",
        "structure"
      ],
      "metadata": {
        "id": "SttG1r9TFo5W",
        "colab": {
          "base_uri": "https://localhost:8080/",
          "height": 167
        },
        "outputId": "bb4a3d9b-152e-45bd-89ac-5a7490234791"
      },
      "execution_count": null,
      "outputs": [
        {
          "output_type": "execute_result",
          "data": {
            "text/plain": [
              "<rdkit.Chem.rdchem.Mol at 0x7f93f126f3f0>"
            ],
            "image/png": "[encoded data removed]"
          },
          "metadata": {},
          "execution_count": 23
        }
      ]
    },
    {
      "cell_type": "markdown",
      "source": [
        "Lo primero que se debe hacer es configurar la función que sombrea la maxima estructura comun compartida entre un grupo dado de moleculas"
      ],
      "metadata": {
        "id": "UsSiXqsHFBIm"
      }
    },
    {
      "cell_type": "code",
      "source": [
        "def highlight_molecules(molecules, mcs, number, same_orientation=True, **kwargs):\n",
        "    \"\"\"Highlight the MCS in our query molecules\"\"\"\n",
        "    molecules = deepcopy(molecules)\n",
        "    # convert MCS to molecule\n",
        "    pattern = Chem.MolFromSmarts(mcs.smartsString)\n",
        "    # find the matching atoms in each molecule\n",
        "    matching = [molecule.GetSubstructMatch(pattern) for molecule in molecules[:number]]\n",
        "\n",
        "    # Align by matched substructure so they are depicted in the same orientation\n",
        "    # Adapted from: https://gist.github.com/greglandrum/82d9a86acb3b00d3bb1df502779a5810\n",
        "    if same_orientation:\n",
        "        mol, match = molecules[0], matching[0]\n",
        "        AllChem.Compute2DCoords(mol)\n",
        "        coords = [mol.GetConformer().GetAtomPosition(x) for x in match]\n",
        "        coords2D = [Geometry.Point2D(pt.x, pt.y) for pt in coords]\n",
        "        for mol, match in zip(molecules[1:number], matching[1:number]):\n",
        "            if not match:\n",
        "                continue\n",
        "            coord_dict = {match[i]: coord for i, coord in enumerate(coords2D)}\n",
        "            AllChem.Compute2DCoords(mol, coordMap=coord_dict)\n",
        "\n",
        "    return Draw.MolsToGridImage(\n",
        "        molecules[:number],\n",
        "        molsPerRow=5,\n",
        "        highlightAtomLists=matching[:number],\n",
        "        subImgSize=(200, 200),\n",
        "        **kwargs,\n",
        "    )"
      ],
      "metadata": {
        "id": "vM3H8cm-UQXL"
      },
      "execution_count": null,
      "outputs": []
    },
    {
      "cell_type": "markdown",
      "source": [
        "El primer paso es analizar que subestructuras son compartidas entre los distintos tipos de carbohidratos presentes en el dataset. En primer lugar se hace la búsqueda para los monosacaridos"
      ],
      "metadata": {
        "id": "b5KYXegIFacl"
      }
    },
    {
      "cell_type": "code",
      "source": [
        "Mon_smiles = Monosaccharides ['Smiles']\n",
        "Mon_structure = [Chem.MolFromSmiles (smile) for smile in Mon_smiles ]\n",
        "cm_mon_subst = rdFMCS.FindMCS(Mon_structure)\n",
        "print(f\"The CS contains {cm_mon_subst.numAtoms} atoms and {cm_mon_subst.numBonds} bonds.\")\n",
        "highlight_molecules(Mon_structure, cm_mon_subst, 5)"
      ],
      "metadata": {
        "id": "C45uM0Z0Vtqo",
        "colab": {
          "base_uri": "https://localhost:8080/",
          "height": 160
        },
        "outputId": "1f641498-04cb-4092-8b26-fb8c08991997"
      },
      "execution_count": null,
      "outputs": [
        {
          "output_type": "stream",
          "name": "stdout",
          "text": [
            "The CS contains 3 atoms and 2 bonds.\n"
          ]
        },
        {
          "output_type": "execute_result",
          "data": {
            "image/png": "[encoded data removed]",
            "text/plain": [
              "<IPython.core.display.Image object>"
            ]
          },
          "metadata": {},
          "execution_count": 17
        }
      ]
    },
    {
      "cell_type": "markdown",
      "source": [
        "Luego se realiza la misma búsqueda para los oligosacaridos"
      ],
      "metadata": {
        "id": "2H1cmZjSRVur"
      }
    },
    {
      "cell_type": "code",
      "source": [
        "Oligo_smiles = Oligosaccharides ['Smiles']\n",
        "Oligo_structure = [Chem.MolFromSmiles (smile) for smile in Oligo_smiles ]\n",
        "cm_oligo_subst = rdFMCS.FindMCS(Oligo_structure)\n",
        "print(f\"The CS contains {cm_oligo_subst.numAtoms} atoms and {cm_oligo_subst.numBonds} bonds.\")\n",
        "highlight_molecules(Oligo_structure, cm_oligo_subst, 5)"
      ],
      "metadata": {
        "id": "wzu_gEeR6Cpt",
        "colab": {
          "base_uri": "https://localhost:8080/",
          "height": 160
        },
        "outputId": "c56bb8a5-131b-4d6c-a0ad-3a58e22433ae"
      },
      "execution_count": null,
      "outputs": [
        {
          "output_type": "stream",
          "name": "stdout",
          "text": [
            "The CS contains 16 atoms and 16 bonds.\n"
          ]
        },
        {
          "output_type": "execute_result",
          "data": {
            "image/png": "[encoded data removed]",
            "text/plain": [
              "<IPython.core.display.Image object>"
            ]
          },
          "metadata": {},
          "execution_count": 18
        }
      ]
    },
    {
      "cell_type": "markdown",
      "source": [
        "Finalmente se lleva a cabo la búsqueda para los polisacaridos"
      ],
      "metadata": {
        "id": "X7Aovz7lRp6d"
      }
    },
    {
      "cell_type": "code",
      "source": [
        "Pol_smiles = Polysaccharides ['Smiles']\n",
        "Pol_structure = [Chem.MolFromSmiles (smile) for smile in Pol_smiles ]\n",
        "cm_pol_subst = rdFMCS.FindMCS(Pol_structure)\n",
        "print(f\"The CS contains {cm_pol_subst.numAtoms} atoms and {cm_pol_subst.numBonds} bonds.\")\n",
        "highlight_molecules(Pol_structure, cm_pol_subst, 1)"
      ],
      "metadata": {
        "id": "VhULeajbWyIy",
        "colab": {
          "base_uri": "https://localhost:8080/",
          "height": 160
        },
        "outputId": "20325704-12b0-40e8-d112-82505ed1024c"
      },
      "execution_count": null,
      "outputs": [
        {
          "output_type": "stream",
          "name": "stdout",
          "text": [
            "The CS contains 7 atoms and 6 bonds.\n"
          ]
        },
        {
          "output_type": "execute_result",
          "data": {
            "image/png": "[encoded data removed]",
            "text/plain": [
              "<IPython.core.display.Image object>"
            ]
          },
          "metadata": {},
          "execution_count": 20
        }
      ]
    },
    {
      "cell_type": "markdown",
      "source": [
        "RDKit permite imprimir solo la parte de la subestructura que se detecto como común en la busqueda realizada"
      ],
      "metadata": {
        "id": "VJCZPKzrRxfi"
      }
    },
    {
      "cell_type": "code",
      "source": [
        "m1 = Chem.MolFromSmarts(cm_mon_subst.smartsString)\n",
        "m2 = Chem.MolFromSmarts(cm_oligo_subst.smartsString)\n",
        "m3 = Chem.MolFromSmarts(cm_pol_subst.smartsString)\n",
        "\n",
        "Draw.MolsToGridImage(\n",
        "    [m1, m2, m3],\n",
        "    legends=[\n",
        "        \"Monosacaridos\",\n",
        "        \"Oligosacaridos\",\n",
        "        \"Polisacaridos\",\n",
        "    ],\n",
        ")"
      ],
      "metadata": {
        "id": "ummjd3RXCr-V",
        "colab": {
          "base_uri": "https://localhost:8080/",
          "height": 217
        },
        "outputId": "665eb1a3-62be-4029-9036-9c0b98172cdf"
      },
      "execution_count": null,
      "outputs": [
        {
          "output_type": "execute_result",
          "data": {
            "image/png": "[encoded data removed]",
            "text/plain": [
              "<IPython.core.display.Image object>"
            ]
          },
          "metadata": {},
          "execution_count": 24
        }
      ]
    },
    {
      "cell_type": "markdown",
      "source": [
        "# CALCULANDO DESCRIPTORES MOLECULARES CON RDKIT"
      ],
      "metadata": {
        "id": "FDuaZtRsXI6f"
      }
    },
    {
      "cell_type": "markdown",
      "source": [
        "RDKit también perimite el calculo de descriptores moleculares. son propiedades fisicoquímicas que se calculan a partir de una estructura por métodos computacionales, por lo que son un reflejo cuantitativo o describen numéricamente a cada una de las moléculas.\n",
        "\n",
        "En este caso vamos a calcular los siguientes descriptores moleculares: numero de atomos pesados, grupos hidroxilo, grupos carbonilo, grupos carboxilo y grupos fenilo"
      ],
      "metadata": {
        "id": "2gM7PC37XN3u"
      }
    },
    {
      "cell_type": "code",
      "source": [
        "caboxyl_group = Chem.MolFromSmiles('CC(=O)O')\n",
        "carbonyl_group = Chem.MolFromSmiles('C(=O)C')\n",
        "hydroxyl_group = Chem.MolFromSmiles('C-O')\n",
        "acyclic_group = Chem.MolFromSmiles('CCC')\n",
        "Draw.MolsToGridImage(\n",
        "    [caboxyl_group, carbonyl_group, hydroxyl_group, acyclic_group],\n",
        "    legends=[\n",
        "        \"Carboxilo\",\n",
        "        \"Carbonilo\",\n",
        "        \"Hidroxilo\",\n",
        "        \"Acyclic\",\n",
        "    ],\n",
        ")"
      ],
      "metadata": {
        "id": "TEji7tOrYdFM",
        "colab": {
          "base_uri": "https://localhost:8080/",
          "height": 417
        },
        "outputId": "ca1a25af-dc90-4d40-908b-52b6386b9490"
      },
      "execution_count": null,
      "outputs": [
        {
          "output_type": "execute_result",
          "data": {
            "image/png": "[encoded data removed]",
            "text/plain": [
              "<IPython.core.display.Image object>"
            ]
          },
          "metadata": {},
          "execution_count": 25
        }
      ]
    },
    {
      "cell_type": "markdown",
      "source": [
        "Para esto vamos a usar la Match de RDKit que busca por subestructuras especificas en conjunto de moleculas dados"
      ],
      "metadata": {
        "id": "wGoKU6XQaPgg"
      }
    },
    {
      "cell_type": "code",
      "source": [
        "Heavy_atoms = []\n",
        "count_carboxyl = []\n",
        "count_carbonyl = []\n",
        "count_hydroxyl = []\n",
        "count_acyclic = []\n",
        "\n",
        "for smile in all_smiles: \n",
        "  #Generate the structure of the molecule\n",
        "  mol = Chem.MolFromSmiles(smile)\n",
        "\n",
        "  # Get heavy atoms count \n",
        "  heavy_atoms_count = mol.GetNumHeavyAtoms()\n",
        "  Heavy_atoms.append(heavy_atoms_count)\n",
        "\n",
        "  #Get number of caboxyl groups\n",
        "  matches_caboxyl = mol.GetSubstructMatches(caboxyl_group)\n",
        "  count_carboxyl.append(len(matches_caboxyl))\n",
        "\n",
        "  #Get number of carbonyl groups\n",
        "  matches_carbonyl = mol.GetSubstructMatches(carbonyl_group)\n",
        "  count_carbonyl.append(len(matches_carbonyl))\n",
        "\n",
        "  #Get number of hydroxyl groups\n",
        "  matches_hydroxyl = mol.GetSubstructMatches(hydroxyl_group)\n",
        "  count_hydroxyl.append(len(matches_hydroxyl))\n",
        "\n",
        "  #Get number of phenyl groups\n",
        "  matches_acyclic = mol.GetSubstructMatches(acyclic_group)\n",
        "  count_acyclic.append(len(matches_acyclic))"
      ],
      "metadata": {
        "id": "6g0TJLGrSu4m"
      },
      "execution_count": null,
      "outputs": []
    },
    {
      "cell_type": "markdown",
      "source": [
        "Ahora se agregan los nuevos parametros calculados a los datos originales para compilarlos"
      ],
      "metadata": {
        "id": "xClU8rxRafud"
      }
    },
    {
      "cell_type": "code",
      "source": [
        "data ['Heavy atoms'], data ['Carboxyl groups'], data ['Carbonyl groups'] = [Heavy_atoms, count_carboxyl, count_carbonyl]\n",
        "data"
      ],
      "metadata": {
        "id": "Y12SdeogAn2M",
        "colab": {
          "base_uri": "https://localhost:8080/",
          "height": 557
        },
        "outputId": "f00a3478-0882-4bf6-98c1-e494b79dc068"
      },
      "execution_count": null,
      "outputs": [
        {
          "output_type": "execute_result",
          "data": {
            "text/plain": [
              "                 Carbohydrate             Type                Subtype  \\\n",
              "0            D-Glyceraldehyde  Monosaccharides                 aldose   \n",
              "1            L-Glyceraldehyde  Monosaccharides                 aldose   \n",
              "2                 D-Erythrose  Monosaccharides                 aldose   \n",
              "3                   D-Threose  Monosaccharides                 aldose   \n",
              "4                 D-Arabinose  Monosaccharides                 aldose   \n",
              "..                        ...              ...                    ...   \n",
              "107               Glucomannan  Polysaccharides  Heteropolysaccharides   \n",
              "108                Xyloglucan  Polysaccharides  Heteropolysaccharides   \n",
              "109  4-O-Methylglucuronoxylan  Polysaccharides  Heteropolysaccharides   \n",
              "110               Chondroitin  Polysaccharides  Heteropolysaccharides   \n",
              "111               Alginicacid  Polysaccharides  Heteropolysaccharides   \n",
              "\n",
              "                                                Smiles  Heavy atoms  \\\n",
              "0                                       OC[C@@H](O)C=O            6   \n",
              "1                                        OC[C@H](O)C=O            6   \n",
              "2                              OC[C@@H](O)[C@@H](O)C=O            8   \n",
              "3                               OC[C@@H](O)[C@H](O)C=O            8   \n",
              "4                      OC[C@@H](O)[C@@H](O)[C@H](O)C=O           10   \n",
              "..                                                 ...          ...   \n",
              "107  C([C@@H]1[C@H]([C@@H]([C@@H]([C@@H](O1)O[C@@H]...           45   \n",
              "108  COC1=C(C=CC(=C1)/C=C/C(=O)O[C@@H]2CO[C@@H]([C@...           34   \n",
              "109  CC1C(C(C(C(O1)OC2C(C(COC2OC3C(COC(C3O)O)OC4C(C...           51   \n",
              "110  CC(=O)N[C@H]1[C@H]([C@H]([C@H](O[C@H]1O)CO)O)O...           26   \n",
              "111                    CC1=C([N+](=CC=C1)[O-])COC(=O)C           13   \n",
              "\n",
              "     Carboxyl groups  Carbonyl groups  \n",
              "0                  0                1  \n",
              "1                  0                1  \n",
              "2                  0                1  \n",
              "3                  0                1  \n",
              "4                  0                1  \n",
              "..               ...              ...  \n",
              "107                0                0  \n",
              "108                1                2  \n",
              "109                1                1  \n",
              "110                1                2  \n",
              "111                1                1  \n",
              "\n",
              "[112 rows x 7 columns]"
            ],
            "text/html": [
              "\n",
              "  <div id=\"df-e3273329-9ce7-4e8d-ab9c-e2938d92a95b\">\n",
              "    <div class=\"colab-df-container\">\n",
              "      <div>\n",
              "<style scoped>\n",
              "    .dataframe tbody tr th:only-of-type {\n",
              "        vertical-align: middle;\n",
              "    }\n",
              "\n",
              "    .dataframe tbody tr th {\n",
              "        vertical-align: top;\n",
              "    }\n",
              "\n",
              "    .dataframe thead th {\n",
              "        text-align: right;\n",
              "    }\n",
              "</style>\n",
              "<table border=\"1\" class=\"dataframe\">\n",
              "  <thead>\n",
              "    <tr style=\"text-align: right;\">\n",
              "      <th></th>\n",
              "      <th>Carbohydrate</th>\n",
              "      <th>Type</th>\n",
              "      <th>Subtype</th>\n",
              "      <th>Smiles</th>\n",
              "      <th>Heavy atoms</th>\n",
              "      <th>Carboxyl groups</th>\n",
              "      <th>Carbonyl groups</th>\n",
              "    </tr>\n",
              "  </thead>\n",
              "  <tbody>\n",
              "    <tr>\n",
              "      <th>0</th>\n",
              "      <td>D-Glyceraldehyde</td>\n",
              "      <td>Monosaccharides</td>\n",
              "      <td>aldose</td>\n",
              "      <td>OC[C@@H](O)C=O</td>\n",
              "      <td>6</td>\n",
              "      <td>0</td>\n",
              "      <td>1</td>\n",
              "    </tr>\n",
              "    <tr>\n",
              "      <th>1</th>\n",
              "      <td>L-Glyceraldehyde</td>\n",
              "      <td>Monosaccharides</td>\n",
              "      <td>aldose</td>\n",
              "      <td>OC[C@H](O)C=O</td>\n",
              "      <td>6</td>\n",
              "      <td>0</td>\n",
              "      <td>1</td>\n",
              "    </tr>\n",
              "    <tr>\n",
              "      <th>2</th>\n",
              "      <td>D-Erythrose</td>\n",
              "      <td>Monosaccharides</td>\n",
              "      <td>aldose</td>\n",
              "      <td>OC[C@@H](O)[C@@H](O)C=O</td>\n",
              "      <td>8</td>\n",
              "      <td>0</td>\n",
              "      <td>1</td>\n",
              "    </tr>\n",
              "    <tr>\n",
              "      <th>3</th>\n",
              "      <td>D-Threose</td>\n",
              "      <td>Monosaccharides</td>\n",
              "      <td>aldose</td>\n",
              "      <td>OC[C@@H](O)[C@H](O)C=O</td>\n",
              "      <td>8</td>\n",
              "      <td>0</td>\n",
              "      <td>1</td>\n",
              "    </tr>\n",
              "    <tr>\n",
              "      <th>4</th>\n",
              "      <td>D-Arabinose</td>\n",
              "      <td>Monosaccharides</td>\n",
              "      <td>aldose</td>\n",
              "      <td>OC[C@@H](O)[C@@H](O)[C@H](O)C=O</td>\n",
              "      <td>10</td>\n",
              "      <td>0</td>\n",
              "      <td>1</td>\n",
              "    </tr>\n",
              "    <tr>\n",
              "      <th>...</th>\n",
              "      <td>...</td>\n",
              "      <td>...</td>\n",
              "      <td>...</td>\n",
              "      <td>...</td>\n",
              "      <td>...</td>\n",
              "      <td>...</td>\n",
              "      <td>...</td>\n",
              "    </tr>\n",
              "    <tr>\n",
              "      <th>107</th>\n",
              "      <td>Glucomannan</td>\n",
              "      <td>Polysaccharides</td>\n",
              "      <td>Heteropolysaccharides</td>\n",
              "      <td>C([C@@H]1[C@H]([C@@H]([C@@H]([C@@H](O1)O[C@@H]...</td>\n",
              "      <td>45</td>\n",
              "      <td>0</td>\n",
              "      <td>0</td>\n",
              "    </tr>\n",
              "    <tr>\n",
              "      <th>108</th>\n",
              "      <td>Xyloglucan</td>\n",
              "      <td>Polysaccharides</td>\n",
              "      <td>Heteropolysaccharides</td>\n",
              "      <td>COC1=C(C=CC(=C1)/C=C/C(=O)O[C@@H]2CO[C@@H]([C@...</td>\n",
              "      <td>34</td>\n",
              "      <td>1</td>\n",
              "      <td>2</td>\n",
              "    </tr>\n",
              "    <tr>\n",
              "      <th>109</th>\n",
              "      <td>4-O-Methylglucuronoxylan</td>\n",
              "      <td>Polysaccharides</td>\n",
              "      <td>Heteropolysaccharides</td>\n",
              "      <td>CC1C(C(C(C(O1)OC2C(C(COC2OC3C(COC(C3O)O)OC4C(C...</td>\n",
              "      <td>51</td>\n",
              "      <td>1</td>\n",
              "      <td>1</td>\n",
              "    </tr>\n",
              "    <tr>\n",
              "      <th>110</th>\n",
              "      <td>Chondroitin</td>\n",
              "      <td>Polysaccharides</td>\n",
              "      <td>Heteropolysaccharides</td>\n",
              "      <td>CC(=O)N[C@H]1[C@H]([C@H]([C@H](O[C@H]1O)CO)O)O...</td>\n",
              "      <td>26</td>\n",
              "      <td>1</td>\n",
              "      <td>2</td>\n",
              "    </tr>\n",
              "    <tr>\n",
              "      <th>111</th>\n",
              "      <td>Alginicacid</td>\n",
              "      <td>Polysaccharides</td>\n",
              "      <td>Heteropolysaccharides</td>\n",
              "      <td>CC1=C([N+](=CC=C1)[O-])COC(=O)C</td>\n",
              "      <td>13</td>\n",
              "      <td>1</td>\n",
              "      <td>1</td>\n",
              "    </tr>\n",
              "  </tbody>\n",
              "</table>\n",
              "<p>112 rows × 7 columns</p>\n",
              "</div>\n",
              "      <button class=\"colab-df-convert\" onclick=\"convertToInteractive('df-e3273329-9ce7-4e8d-ab9c-e2938d92a95b')\"\n",
              "              title=\"Convert this dataframe to an interactive table.\"\n",
              "              style=\"display:none;\">\n",
              "        \n",
              "  <svg xmlns=\"http://www.w3.org/2000/svg\" height=\"24px\"viewBox=\"0 0 24 24\"\n",
              "       width=\"24px\">\n",
              "    <path d=\"M0 0h24v24H0V0z\" fill=\"none\"/>\n",
              "    <path d=\"M18.56 5.44l.94 2.06.94-2.06 2.06-.94-2.06-.94-.94-2.06-.94 2.06-2.06.94zm-11 1L8.5 8.5l.94-2.06 2.06-.94-2.06-.94L8.5 2.5l-.94 2.06-2.06.94zm10 10l.94 2.06.94-2.06 2.06-.94-2.06-.94-.94-2.06-.94 2.06-2.06.94z\"/><path d=\"M17.41 7.96l-1.37-1.37c-.4-.4-.92-.59-1.43-.59-.52 0-1.04.2-1.43.59L10.3 9.45l-7.72 7.72c-.78.78-.78 2.05 0 2.83L4 21.41c.39.39.9.59 1.41.59.51 0 1.02-.2 1.41-.59l7.78-7.78 2.81-2.81c.8-.78.8-2.07 0-2.86zM5.41 20L4 18.59l7.72-7.72 1.47 1.35L5.41 20z\"/>\n",
              "  </svg>\n",
              "      </button>\n",
              "      \n",
              "  <style>\n",
              "    .colab-df-container {\n",
              "      display:flex;\n",
              "      flex-wrap:wrap;\n",
              "      gap: 12px;\n",
              "    }\n",
              "\n",
              "    .colab-df-convert {\n",
              "      background-color: #E8F0FE;\n",
              "      border: none;\n",
              "      border-radius: 50%;\n",
              "      cursor: pointer;\n",
              "      display: none;\n",
              "      fill: #1967D2;\n",
              "      height: 32px;\n",
              "      padding: 0 0 0 0;\n",
              "      width: 32px;\n",
              "    }\n",
              "\n",
              "    .colab-df-convert:hover {\n",
              "      background-color: #E2EBFA;\n",
              "      box-shadow: 0px 1px 2px rgba(60, 64, 67, 0.3), 0px 1px 3px 1px rgba(60, 64, 67, 0.15);\n",
              "      fill: #174EA6;\n",
              "    }\n",
              "\n",
              "    [theme=dark] .colab-df-convert {\n",
              "      background-color: #3B4455;\n",
              "      fill: #D2E3FC;\n",
              "    }\n",
              "\n",
              "    [theme=dark] .colab-df-convert:hover {\n",
              "      background-color: #434B5C;\n",
              "      box-shadow: 0px 1px 3px 1px rgba(0, 0, 0, 0.15);\n",
              "      filter: drop-shadow(0px 1px 2px rgba(0, 0, 0, 0.3));\n",
              "      fill: #FFFFFF;\n",
              "    }\n",
              "  </style>\n",
              "\n",
              "      <script>\n",
              "        const buttonEl =\n",
              "          document.querySelector('#df-e3273329-9ce7-4e8d-ab9c-e2938d92a95b button.colab-df-convert');\n",
              "        buttonEl.style.display =\n",
              "          google.colab.kernel.accessAllowed ? 'block' : 'none';\n",
              "\n",
              "        async function convertToInteractive(key) {\n",
              "          const element = document.querySelector('#df-e3273329-9ce7-4e8d-ab9c-e2938d92a95b');\n",
              "          const dataTable =\n",
              "            await google.colab.kernel.invokeFunction('convertToInteractive',\n",
              "                                                     [key], {});\n",
              "          if (!dataTable) return;\n",
              "\n",
              "          const docLinkHtml = 'Like what you see? Visit the ' +\n",
              "            '<a target=\"_blank\" href=https://colab.research.google.com/notebooks/data_table.ipynb>data table notebook</a>'\n",
              "            + ' to learn more about interactive tables.';\n",
              "          element.innerHTML = '';\n",
              "          dataTable['output_type'] = 'display_data';\n",
              "          await google.colab.output.renderOutput(dataTable, element);\n",
              "          const docLink = document.createElement('div');\n",
              "          docLink.innerHTML = docLinkHtml;\n",
              "          element.appendChild(docLink);\n",
              "        }\n",
              "      </script>\n",
              "    </div>\n",
              "  </div>\n",
              "  "
            ]
          },
          "metadata": {},
          "execution_count": 27
        }
      ]
    },
    {
      "cell_type": "code",
      "source": [
        "data ['Hydroxyl groups'], data ['Acyclic groups'] = [count_hydroxyl, count_acyclic]\n",
        "data"
      ],
      "metadata": {
        "id": "gHsnpnDfVaAv",
        "colab": {
          "base_uri": "https://localhost:8080/",
          "height": 557
        },
        "outputId": "a27fd1e8-2728-44ba-ca6f-0e9cb112f616"
      },
      "execution_count": null,
      "outputs": [
        {
          "output_type": "execute_result",
          "data": {
            "text/plain": [
              "                 Carbohydrate             Type                Subtype  \\\n",
              "0            D-Glyceraldehyde  Monosaccharides                 aldose   \n",
              "1            L-Glyceraldehyde  Monosaccharides                 aldose   \n",
              "2                 D-Erythrose  Monosaccharides                 aldose   \n",
              "3                   D-Threose  Monosaccharides                 aldose   \n",
              "4                 D-Arabinose  Monosaccharides                 aldose   \n",
              "..                        ...              ...                    ...   \n",
              "107               Glucomannan  Polysaccharides  Heteropolysaccharides   \n",
              "108                Xyloglucan  Polysaccharides  Heteropolysaccharides   \n",
              "109  4-O-Methylglucuronoxylan  Polysaccharides  Heteropolysaccharides   \n",
              "110               Chondroitin  Polysaccharides  Heteropolysaccharides   \n",
              "111               Alginicacid  Polysaccharides  Heteropolysaccharides   \n",
              "\n",
              "                                                Smiles  Heavy atoms  \\\n",
              "0                                       OC[C@@H](O)C=O            6   \n",
              "1                                        OC[C@H](O)C=O            6   \n",
              "2                              OC[C@@H](O)[C@@H](O)C=O            8   \n",
              "3                               OC[C@@H](O)[C@H](O)C=O            8   \n",
              "4                      OC[C@@H](O)[C@@H](O)[C@H](O)C=O           10   \n",
              "..                                                 ...          ...   \n",
              "107  C([C@@H]1[C@H]([C@@H]([C@@H]([C@@H](O1)O[C@@H]...           45   \n",
              "108  COC1=C(C=CC(=C1)/C=C/C(=O)O[C@@H]2CO[C@@H]([C@...           34   \n",
              "109  CC1C(C(C(C(O1)OC2C(C(COC2OC3C(COC(C3O)O)OC4C(C...           51   \n",
              "110  CC(=O)N[C@H]1[C@H]([C@H]([C@H](O[C@H]1O)CO)O)O...           26   \n",
              "111                    CC1=C([N+](=CC=C1)[O-])COC(=O)C           13   \n",
              "\n",
              "     Carboxyl groups  Carbonyl groups  Hydroxyl groups  Acyclic groups  \n",
              "0                  0                1                2               1  \n",
              "1                  0                1                2               1  \n",
              "2                  0                1                3               2  \n",
              "3                  0                1                3               2  \n",
              "4                  0                1                4               3  \n",
              "..               ...              ...              ...             ...  \n",
              "107                0                0               28              16  \n",
              "108                1                2               15               7  \n",
              "109                1                1               32              17  \n",
              "110                1                2               12               6  \n",
              "111                1                1                2               0  \n",
              "\n",
              "[112 rows x 9 columns]"
            ],
            "text/html": [
              "\n",
              "  <div id=\"df-d7125d79-ccfb-4ed5-90e2-b1ca334e32a2\">\n",
              "    <div class=\"colab-df-container\">\n",
              "      <div>\n",
              "<style scoped>\n",
              "    .dataframe tbody tr th:only-of-type {\n",
              "        vertical-align: middle;\n",
              "    }\n",
              "\n",
              "    .dataframe tbody tr th {\n",
              "        vertical-align: top;\n",
              "    }\n",
              "\n",
              "    .dataframe thead th {\n",
              "        text-align: right;\n",
              "    }\n",
              "</style>\n",
              "<table border=\"1\" class=\"dataframe\">\n",
              "  <thead>\n",
              "    <tr style=\"text-align: right;\">\n",
              "      <th></th>\n",
              "      <th>Carbohydrate</th>\n",
              "      <th>Type</th>\n",
              "      <th>Subtype</th>\n",
              "      <th>Smiles</th>\n",
              "      <th>Heavy atoms</th>\n",
              "      <th>Carboxyl groups</th>\n",
              "      <th>Carbonyl groups</th>\n",
              "      <th>Hydroxyl groups</th>\n",
              "      <th>Acyclic groups</th>\n",
              "    </tr>\n",
              "  </thead>\n",
              "  <tbody>\n",
              "    <tr>\n",
              "      <th>0</th>\n",
              "      <td>D-Glyceraldehyde</td>\n",
              "      <td>Monosaccharides</td>\n",
              "      <td>aldose</td>\n",
              "      <td>OC[C@@H](O)C=O</td>\n",
              "      <td>6</td>\n",
              "      <td>0</td>\n",
              "      <td>1</td>\n",
              "      <td>2</td>\n",
              "      <td>1</td>\n",
              "    </tr>\n",
              "    <tr>\n",
              "      <th>1</th>\n",
              "      <td>L-Glyceraldehyde</td>\n",
              "      <td>Monosaccharides</td>\n",
              "      <td>aldose</td>\n",
              "      <td>OC[C@H](O)C=O</td>\n",
              "      <td>6</td>\n",
              "      <td>0</td>\n",
              "      <td>1</td>\n",
              "      <td>2</td>\n",
              "      <td>1</td>\n",
              "    </tr>\n",
              "    <tr>\n",
              "      <th>2</th>\n",
              "      <td>D-Erythrose</td>\n",
              "      <td>Monosaccharides</td>\n",
              "      <td>aldose</td>\n",
              "      <td>OC[C@@H](O)[C@@H](O)C=O</td>\n",
              "      <td>8</td>\n",
              "      <td>0</td>\n",
              "      <td>1</td>\n",
              "      <td>3</td>\n",
              "      <td>2</td>\n",
              "    </tr>\n",
              "    <tr>\n",
              "      <th>3</th>\n",
              "      <td>D-Threose</td>\n",
              "      <td>Monosaccharides</td>\n",
              "      <td>aldose</td>\n",
              "      <td>OC[C@@H](O)[C@H](O)C=O</td>\n",
              "      <td>8</td>\n",
              "      <td>0</td>\n",
              "      <td>1</td>\n",
              "      <td>3</td>\n",
              "      <td>2</td>\n",
              "    </tr>\n",
              "    <tr>\n",
              "      <th>4</th>\n",
              "      <td>D-Arabinose</td>\n",
              "      <td>Monosaccharides</td>\n",
              "      <td>aldose</td>\n",
              "      <td>OC[C@@H](O)[C@@H](O)[C@H](O)C=O</td>\n",
              "      <td>10</td>\n",
              "      <td>0</td>\n",
              "      <td>1</td>\n",
              "      <td>4</td>\n",
              "      <td>3</td>\n",
              "    </tr>\n",
              "    <tr>\n",
              "      <th>...</th>\n",
              "      <td>...</td>\n",
              "      <td>...</td>\n",
              "      <td>...</td>\n",
              "      <td>...</td>\n",
              "      <td>...</td>\n",
              "      <td>...</td>\n",
              "      <td>...</td>\n",
              "      <td>...</td>\n",
              "      <td>...</td>\n",
              "    </tr>\n",
              "    <tr>\n",
              "      <th>107</th>\n",
              "      <td>Glucomannan</td>\n",
              "      <td>Polysaccharides</td>\n",
              "      <td>Heteropolysaccharides</td>\n",
              "      <td>C([C@@H]1[C@H]([C@@H]([C@@H]([C@@H](O1)O[C@@H]...</td>\n",
              "      <td>45</td>\n",
              "      <td>0</td>\n",
              "      <td>0</td>\n",
              "      <td>28</td>\n",
              "      <td>16</td>\n",
              "    </tr>\n",
              "    <tr>\n",
              "      <th>108</th>\n",
              "      <td>Xyloglucan</td>\n",
              "      <td>Polysaccharides</td>\n",
              "      <td>Heteropolysaccharides</td>\n",
              "      <td>COC1=C(C=CC(=C1)/C=C/C(=O)O[C@@H]2CO[C@@H]([C@...</td>\n",
              "      <td>34</td>\n",
              "      <td>1</td>\n",
              "      <td>2</td>\n",
              "      <td>15</td>\n",
              "      <td>7</td>\n",
              "    </tr>\n",
              "    <tr>\n",
              "      <th>109</th>\n",
              "      <td>4-O-Methylglucuronoxylan</td>\n",
              "      <td>Polysaccharides</td>\n",
              "      <td>Heteropolysaccharides</td>\n",
              "      <td>CC1C(C(C(C(O1)OC2C(C(COC2OC3C(COC(C3O)O)OC4C(C...</td>\n",
              "      <td>51</td>\n",
              "      <td>1</td>\n",
              "      <td>1</td>\n",
              "      <td>32</td>\n",
              "      <td>17</td>\n",
              "    </tr>\n",
              "    <tr>\n",
              "      <th>110</th>\n",
              "      <td>Chondroitin</td>\n",
              "      <td>Polysaccharides</td>\n",
              "      <td>Heteropolysaccharides</td>\n",
              "      <td>CC(=O)N[C@H]1[C@H]([C@H]([C@H](O[C@H]1O)CO)O)O...</td>\n",
              "      <td>26</td>\n",
              "      <td>1</td>\n",
              "      <td>2</td>\n",
              "      <td>12</td>\n",
              "      <td>6</td>\n",
              "    </tr>\n",
              "    <tr>\n",
              "      <th>111</th>\n",
              "      <td>Alginicacid</td>\n",
              "      <td>Polysaccharides</td>\n",
              "      <td>Heteropolysaccharides</td>\n",
              "      <td>CC1=C([N+](=CC=C1)[O-])COC(=O)C</td>\n",
              "      <td>13</td>\n",
              "      <td>1</td>\n",
              "      <td>1</td>\n",
              "      <td>2</td>\n",
              "      <td>0</td>\n",
              "    </tr>\n",
              "  </tbody>\n",
              "</table>\n",
              "<p>112 rows × 9 columns</p>\n",
              "</div>\n",
              "      <button class=\"colab-df-convert\" onclick=\"convertToInteractive('df-d7125d79-ccfb-4ed5-90e2-b1ca334e32a2')\"\n",
              "              title=\"Convert this dataframe to an interactive table.\"\n",
              "              style=\"display:none;\">\n",
              "        \n",
              "  <svg xmlns=\"http://www.w3.org/2000/svg\" height=\"24px\"viewBox=\"0 0 24 24\"\n",
              "       width=\"24px\">\n",
              "    <path d=\"M0 0h24v24H0V0z\" fill=\"none\"/>\n",
              "    <path d=\"M18.56 5.44l.94 2.06.94-2.06 2.06-.94-2.06-.94-.94-2.06-.94 2.06-2.06.94zm-11 1L8.5 8.5l.94-2.06 2.06-.94-2.06-.94L8.5 2.5l-.94 2.06-2.06.94zm10 10l.94 2.06.94-2.06 2.06-.94-2.06-.94-.94-2.06-.94 2.06-2.06.94z\"/><path d=\"M17.41 7.96l-1.37-1.37c-.4-.4-.92-.59-1.43-.59-.52 0-1.04.2-1.43.59L10.3 9.45l-7.72 7.72c-.78.78-.78 2.05 0 2.83L4 21.41c.39.39.9.59 1.41.59.51 0 1.02-.2 1.41-.59l7.78-7.78 2.81-2.81c.8-.78.8-2.07 0-2.86zM5.41 20L4 18.59l7.72-7.72 1.47 1.35L5.41 20z\"/>\n",
              "  </svg>\n",
              "      </button>\n",
              "      \n",
              "  <style>\n",
              "    .colab-df-container {\n",
              "      display:flex;\n",
              "      flex-wrap:wrap;\n",
              "      gap: 12px;\n",
              "    }\n",
              "\n",
              "    .colab-df-convert {\n",
              "      background-color: #E8F0FE;\n",
              "      border: none;\n",
              "      border-radius: 50%;\n",
              "      cursor: pointer;\n",
              "      display: none;\n",
              "      fill: #1967D2;\n",
              "      height: 32px;\n",
              "      padding: 0 0 0 0;\n",
              "      width: 32px;\n",
              "    }\n",
              "\n",
              "    .colab-df-convert:hover {\n",
              "      background-color: #E2EBFA;\n",
              "      box-shadow: 0px 1px 2px rgba(60, 64, 67, 0.3), 0px 1px 3px 1px rgba(60, 64, 67, 0.15);\n",
              "      fill: #174EA6;\n",
              "    }\n",
              "\n",
              "    [theme=dark] .colab-df-convert {\n",
              "      background-color: #3B4455;\n",
              "      fill: #D2E3FC;\n",
              "    }\n",
              "\n",
              "    [theme=dark] .colab-df-convert:hover {\n",
              "      background-color: #434B5C;\n",
              "      box-shadow: 0px 1px 3px 1px rgba(0, 0, 0, 0.15);\n",
              "      filter: drop-shadow(0px 1px 2px rgba(0, 0, 0, 0.3));\n",
              "      fill: #FFFFFF;\n",
              "    }\n",
              "  </style>\n",
              "\n",
              "      <script>\n",
              "        const buttonEl =\n",
              "          document.querySelector('#df-d7125d79-ccfb-4ed5-90e2-b1ca334e32a2 button.colab-df-convert');\n",
              "        buttonEl.style.display =\n",
              "          google.colab.kernel.accessAllowed ? 'block' : 'none';\n",
              "\n",
              "        async function convertToInteractive(key) {\n",
              "          const element = document.querySelector('#df-d7125d79-ccfb-4ed5-90e2-b1ca334e32a2');\n",
              "          const dataTable =\n",
              "            await google.colab.kernel.invokeFunction('convertToInteractive',\n",
              "                                                     [key], {});\n",
              "          if (!dataTable) return;\n",
              "\n",
              "          const docLinkHtml = 'Like what you see? Visit the ' +\n",
              "            '<a target=\"_blank\" href=https://colab.research.google.com/notebooks/data_table.ipynb>data table notebook</a>'\n",
              "            + ' to learn more about interactive tables.';\n",
              "          element.innerHTML = '';\n",
              "          dataTable['output_type'] = 'display_data';\n",
              "          await google.colab.output.renderOutput(dataTable, element);\n",
              "          const docLink = document.createElement('div');\n",
              "          docLink.innerHTML = docLinkHtml;\n",
              "          element.appendChild(docLink);\n",
              "        }\n",
              "      </script>\n",
              "    </div>\n",
              "  </div>\n",
              "  "
            ]
          },
          "metadata": {},
          "execution_count": 28
        }
      ]
    },
    {
      "cell_type": "markdown",
      "source": [
        "Una vez compilados los datos se guardan en un archivo excel para su posterior uso"
      ],
      "metadata": {
        "id": "igxjzvtdbLQy"
      }
    },
    {
      "cell_type": "code",
      "source": [
        "data.to_excel('Carbohydrates_descriptors_clase.xlsx', sheet_name='data')"
      ],
      "metadata": {
        "id": "3T0fFhNVY65k"
      },
      "execution_count": null,
      "outputs": []
    },
    {
      "cell_type": "markdown",
      "source": [
        "#TALLER RDKit: Análisis de diferencias estructurales entre monosacaridos\n",
        "\n",
        "Para realizar este taller se debe cargar el archivo de smiles y el archivo de descriptores generado anteriormente. No es necesario correr las celdas anteriores\n",
        "\n"
      ],
      "metadata": {
        "id": "y6odvSi6NIty"
      }
    },
    {
      "cell_type": "code",
      "source": [
        "import pandas as pd\n",
        "import numpy as np\n",
        "import matplotlib.pyplot as plt\n",
        "import seaborn as sns\n",
        "import random"
      ],
      "metadata": {
        "id": "OCctn7C2OuMR"
      },
      "execution_count": null,
      "outputs": []
    },
    {
      "cell_type": "code",
      "source": [
        "data_descriptors = '/content/Carbohydrates_descriptors.xlsx'\n",
        "data_descriptors = pd.read_excel(data_descriptors, sheet_name='data')\n",
        "data_descriptors"
      ],
      "metadata": {
        "id": "O1s5eJsbQB1O",
        "colab": {
          "base_uri": "https://localhost:8080/",
          "height": 557
        },
        "outputId": "ac2e3ed4-e00d-4518-ef5d-5a3e4a02d2d3"
      },
      "execution_count": null,
      "outputs": [
        {
          "output_type": "execute_result",
          "data": {
            "text/plain": [
              "                 Carbohydrate             Type                Subtype  \\\n",
              "0            D-Glyceraldehyde  Monosaccharides                 aldose   \n",
              "1            L-Glyceraldehyde  Monosaccharides                 aldose   \n",
              "2                 D-Erythrose  Monosaccharides                 aldose   \n",
              "3                   D-Threose  Monosaccharides                 aldose   \n",
              "4                 D-Arabinose  Monosaccharides                 aldose   \n",
              "..                        ...              ...                    ...   \n",
              "107               Glucomannan  Polysaccharides  Heteropolysaccharides   \n",
              "108                Xyloglucan  Polysaccharides  Heteropolysaccharides   \n",
              "109  4-O-Methylglucuronoxylan  Polysaccharides  Heteropolysaccharides   \n",
              "110               Chondroitin  Polysaccharides  Heteropolysaccharides   \n",
              "111               Alginicacid  Polysaccharides  Heteropolysaccharides   \n",
              "\n",
              "                                                Smiles  Heavy atoms  \\\n",
              "0                                       OC[C@@H](O)C=O            6   \n",
              "1                                        OC[C@H](O)C=O            6   \n",
              "2                              OC[C@@H](O)[C@@H](O)C=O            8   \n",
              "3                               OC[C@@H](O)[C@H](O)C=O            8   \n",
              "4                      OC[C@@H](O)[C@@H](O)[C@H](O)C=O           10   \n",
              "..                                                 ...          ...   \n",
              "107  C([C@@H]1[C@H]([C@@H]([C@@H]([C@@H](O1)O[C@@H]...           45   \n",
              "108  COC1=C(C=CC(=C1)/C=C/C(=O)O[C@@H]2CO[C@@H]([C@...           34   \n",
              "109  CC1C(C(C(C(O1)OC2C(C(COC2OC3C(COC(C3O)O)OC4C(C...           51   \n",
              "110  CC(=O)N[C@H]1[C@H]([C@H]([C@H](O[C@H]1O)CO)O)O...           26   \n",
              "111                    CC1=C([N+](=CC=C1)[O-])COC(=O)C           13   \n",
              "\n",
              "     Carboxyl groups  Carbonyl groups  Hydroxyl groups  Acyclic groups  \n",
              "0                  0                1                2               1  \n",
              "1                  0                1                2               1  \n",
              "2                  0                1                3               2  \n",
              "3                  0                1                3               2  \n",
              "4                  0                1                4               3  \n",
              "..               ...              ...              ...             ...  \n",
              "107                0                0               28              16  \n",
              "108                1                2               15               7  \n",
              "109                1                1               32              17  \n",
              "110                1                2               12               6  \n",
              "111                1                1                2               0  \n",
              "\n",
              "[112 rows x 9 columns]"
            ],
            "text/html": [
              "\n",
              "  <div id=\"df-81e0ddd4-d35f-4404-b26d-655965b0ddc5\">\n",
              "    <div class=\"colab-df-container\">\n",
              "      <div>\n",
              "<style scoped>\n",
              "    .dataframe tbody tr th:only-of-type {\n",
              "        vertical-align: middle;\n",
              "    }\n",
              "\n",
              "    .dataframe tbody tr th {\n",
              "        vertical-align: top;\n",
              "    }\n",
              "\n",
              "    .dataframe thead th {\n",
              "        text-align: right;\n",
              "    }\n",
              "</style>\n",
              "<table border=\"1\" class=\"dataframe\">\n",
              "  <thead>\n",
              "    <tr style=\"text-align: right;\">\n",
              "      <th></th>\n",
              "      <th>Carbohydrate</th>\n",
              "      <th>Type</th>\n",
              "      <th>Subtype</th>\n",
              "      <th>Smiles</th>\n",
              "      <th>Heavy atoms</th>\n",
              "      <th>Carboxyl groups</th>\n",
              "      <th>Carbonyl groups</th>\n",
              "      <th>Hydroxyl groups</th>\n",
              "      <th>Acyclic groups</th>\n",
              "    </tr>\n",
              "  </thead>\n",
              "  <tbody>\n",
              "    <tr>\n",
              "      <th>0</th>\n",
              "      <td>D-Glyceraldehyde</td>\n",
              "      <td>Monosaccharides</td>\n",
              "      <td>aldose</td>\n",
              "      <td>OC[C@@H](O)C=O</td>\n",
              "      <td>6</td>\n",
              "      <td>0</td>\n",
              "      <td>1</td>\n",
              "      <td>2</td>\n",
              "      <td>1</td>\n",
              "    </tr>\n",
              "    <tr>\n",
              "      <th>1</th>\n",
              "      <td>L-Glyceraldehyde</td>\n",
              "      <td>Monosaccharides</td>\n",
              "      <td>aldose</td>\n",
              "      <td>OC[C@H](O)C=O</td>\n",
              "      <td>6</td>\n",
              "      <td>0</td>\n",
              "      <td>1</td>\n",
              "      <td>2</td>\n",
              "      <td>1</td>\n",
              "    </tr>\n",
              "    <tr>\n",
              "      <th>2</th>\n",
              "      <td>D-Erythrose</td>\n",
              "      <td>Monosaccharides</td>\n",
              "      <td>aldose</td>\n",
              "      <td>OC[C@@H](O)[C@@H](O)C=O</td>\n",
              "      <td>8</td>\n",
              "      <td>0</td>\n",
              "      <td>1</td>\n",
              "      <td>3</td>\n",
              "      <td>2</td>\n",
              "    </tr>\n",
              "    <tr>\n",
              "      <th>3</th>\n",
              "      <td>D-Threose</td>\n",
              "      <td>Monosaccharides</td>\n",
              "      <td>aldose</td>\n",
              "      <td>OC[C@@H](O)[C@H](O)C=O</td>\n",
              "      <td>8</td>\n",
              "      <td>0</td>\n",
              "      <td>1</td>\n",
              "      <td>3</td>\n",
              "      <td>2</td>\n",
              "    </tr>\n",
              "    <tr>\n",
              "      <th>4</th>\n",
              "      <td>D-Arabinose</td>\n",
              "      <td>Monosaccharides</td>\n",
              "      <td>aldose</td>\n",
              "      <td>OC[C@@H](O)[C@@H](O)[C@H](O)C=O</td>\n",
              "      <td>10</td>\n",
              "      <td>0</td>\n",
              "      <td>1</td>\n",
              "      <td>4</td>\n",
              "      <td>3</td>\n",
              "    </tr>\n",
              "    <tr>\n",
              "      <th>...</th>\n",
              "      <td>...</td>\n",
              "      <td>...</td>\n",
              "      <td>...</td>\n",
              "      <td>...</td>\n",
              "      <td>...</td>\n",
              "      <td>...</td>\n",
              "      <td>...</td>\n",
              "      <td>...</td>\n",
              "      <td>...</td>\n",
              "    </tr>\n",
              "    <tr>\n",
              "      <th>107</th>\n",
              "      <td>Glucomannan</td>\n",
              "      <td>Polysaccharides</td>\n",
              "      <td>Heteropolysaccharides</td>\n",
              "      <td>C([C@@H]1[C@H]([C@@H]([C@@H]([C@@H](O1)O[C@@H]...</td>\n",
              "      <td>45</td>\n",
              "      <td>0</td>\n",
              "      <td>0</td>\n",
              "      <td>28</td>\n",
              "      <td>16</td>\n",
              "    </tr>\n",
              "    <tr>\n",
              "      <th>108</th>\n",
              "      <td>Xyloglucan</td>\n",
              "      <td>Polysaccharides</td>\n",
              "      <td>Heteropolysaccharides</td>\n",
              "      <td>COC1=C(C=CC(=C1)/C=C/C(=O)O[C@@H]2CO[C@@H]([C@...</td>\n",
              "      <td>34</td>\n",
              "      <td>1</td>\n",
              "      <td>2</td>\n",
              "      <td>15</td>\n",
              "      <td>7</td>\n",
              "    </tr>\n",
              "    <tr>\n",
              "      <th>109</th>\n",
              "      <td>4-O-Methylglucuronoxylan</td>\n",
              "      <td>Polysaccharides</td>\n",
              "      <td>Heteropolysaccharides</td>\n",
              "      <td>CC1C(C(C(C(O1)OC2C(C(COC2OC3C(COC(C3O)O)OC4C(C...</td>\n",
              "      <td>51</td>\n",
              "      <td>1</td>\n",
              "      <td>1</td>\n",
              "      <td>32</td>\n",
              "      <td>17</td>\n",
              "    </tr>\n",
              "    <tr>\n",
              "      <th>110</th>\n",
              "      <td>Chondroitin</td>\n",
              "      <td>Polysaccharides</td>\n",
              "      <td>Heteropolysaccharides</td>\n",
              "      <td>CC(=O)N[C@H]1[C@H]([C@H]([C@H](O[C@H]1O)CO)O)O...</td>\n",
              "      <td>26</td>\n",
              "      <td>1</td>\n",
              "      <td>2</td>\n",
              "      <td>12</td>\n",
              "      <td>6</td>\n",
              "    </tr>\n",
              "    <tr>\n",
              "      <th>111</th>\n",
              "      <td>Alginicacid</td>\n",
              "      <td>Polysaccharides</td>\n",
              "      <td>Heteropolysaccharides</td>\n",
              "      <td>CC1=C([N+](=CC=C1)[O-])COC(=O)C</td>\n",
              "      <td>13</td>\n",
              "      <td>1</td>\n",
              "      <td>1</td>\n",
              "      <td>2</td>\n",
              "      <td>0</td>\n",
              "    </tr>\n",
              "  </tbody>\n",
              "</table>\n",
              "<p>112 rows × 9 columns</p>\n",
              "</div>\n",
              "      <button class=\"colab-df-convert\" onclick=\"convertToInteractive('df-81e0ddd4-d35f-4404-b26d-655965b0ddc5')\"\n",
              "              title=\"Convert this dataframe to an interactive table.\"\n",
              "              style=\"display:none;\">\n",
              "        \n",
              "  <svg xmlns=\"http://www.w3.org/2000/svg\" height=\"24px\"viewBox=\"0 0 24 24\"\n",
              "       width=\"24px\">\n",
              "    <path d=\"M0 0h24v24H0V0z\" fill=\"none\"/>\n",
              "    <path d=\"M18.56 5.44l.94 2.06.94-2.06 2.06-.94-2.06-.94-.94-2.06-.94 2.06-2.06.94zm-11 1L8.5 8.5l.94-2.06 2.06-.94-2.06-.94L8.5 2.5l-.94 2.06-2.06.94zm10 10l.94 2.06.94-2.06 2.06-.94-2.06-.94-.94-2.06-.94 2.06-2.06.94z\"/><path d=\"M17.41 7.96l-1.37-1.37c-.4-.4-.92-.59-1.43-.59-.52 0-1.04.2-1.43.59L10.3 9.45l-7.72 7.72c-.78.78-.78 2.05 0 2.83L4 21.41c.39.39.9.59 1.41.59.51 0 1.02-.2 1.41-.59l7.78-7.78 2.81-2.81c.8-.78.8-2.07 0-2.86zM5.41 20L4 18.59l7.72-7.72 1.47 1.35L5.41 20z\"/>\n",
              "  </svg>\n",
              "      </button>\n",
              "      \n",
              "  <style>\n",
              "    .colab-df-container {\n",
              "      display:flex;\n",
              "      flex-wrap:wrap;\n",
              "      gap: 12px;\n",
              "    }\n",
              "\n",
              "    .colab-df-convert {\n",
              "      background-color: #E8F0FE;\n",
              "      border: none;\n",
              "      border-radius: 50%;\n",
              "      cursor: pointer;\n",
              "      display: none;\n",
              "      fill: #1967D2;\n",
              "      height: 32px;\n",
              "      padding: 0 0 0 0;\n",
              "      width: 32px;\n",
              "    }\n",
              "\n",
              "    .colab-df-convert:hover {\n",
              "      background-color: #E2EBFA;\n",
              "      box-shadow: 0px 1px 2px rgba(60, 64, 67, 0.3), 0px 1px 3px 1px rgba(60, 64, 67, 0.15);\n",
              "      fill: #174EA6;\n",
              "    }\n",
              "\n",
              "    [theme=dark] .colab-df-convert {\n",
              "      background-color: #3B4455;\n",
              "      fill: #D2E3FC;\n",
              "    }\n",
              "\n",
              "    [theme=dark] .colab-df-convert:hover {\n",
              "      background-color: #434B5C;\n",
              "      box-shadow: 0px 1px 3px 1px rgba(0, 0, 0, 0.15);\n",
              "      filter: drop-shadow(0px 1px 2px rgba(0, 0, 0, 0.3));\n",
              "      fill: #FFFFFF;\n",
              "    }\n",
              "  </style>\n",
              "\n",
              "      <script>\n",
              "        const buttonEl =\n",
              "          document.querySelector('#df-81e0ddd4-d35f-4404-b26d-655965b0ddc5 button.colab-df-convert');\n",
              "        buttonEl.style.display =\n",
              "          google.colab.kernel.accessAllowed ? 'block' : 'none';\n",
              "\n",
              "        async function convertToInteractive(key) {\n",
              "          const element = document.querySelector('#df-81e0ddd4-d35f-4404-b26d-655965b0ddc5');\n",
              "          const dataTable =\n",
              "            await google.colab.kernel.invokeFunction('convertToInteractive',\n",
              "                                                     [key], {});\n",
              "          if (!dataTable) return;\n",
              "\n",
              "          const docLinkHtml = 'Like what you see? Visit the ' +\n",
              "            '<a target=\"_blank\" href=https://colab.research.google.com/notebooks/data_table.ipynb>data table notebook</a>'\n",
              "            + ' to learn more about interactive tables.';\n",
              "          element.innerHTML = '';\n",
              "          dataTable['output_type'] = 'display_data';\n",
              "          await google.colab.output.renderOutput(dataTable, element);\n",
              "          const docLink = document.createElement('div');\n",
              "          docLink.innerHTML = docLinkHtml;\n",
              "          element.appendChild(docLink);\n",
              "        }\n",
              "      </script>\n",
              "    </div>\n",
              "  </div>\n",
              "  "
            ]
          },
          "metadata": {},
          "execution_count": 31
        }
      ]
    },
    {
      "cell_type": "markdown",
      "source": [
        "1. Hacer un análisis de de correlación de los descriptores calculados utilizando el indice de correlación de Pearson. Para esto ejecute las celdas de codigo en los siguientes bloques. Explique los resultados\n",
        "\n",
        "https://en.wikipedia.org/wiki/Pearson_correlation_coefficient"
      ],
      "metadata": {
        "id": "j5TO2-_7v-Wu"
      }
    },
    {
      "cell_type": "code",
      "source": [
        "correlation_data = data_descriptors.drop(['Carbohydrate', 'Smiles', 'Type', 'Subtype'], axis=1)\n",
        "correlation_matrix = correlation_data.corr()\n",
        "matrix = np.triu(correlation_matrix)\n",
        "sns.heatmap(correlation_matrix, annot = True, mask=matrix)\n",
        "plt.show()"
      ],
      "metadata": {
        "id": "wdoiWKresdSo",
        "colab": {
          "base_uri": "https://localhost:8080/",
          "height": 337
        },
        "outputId": "5efae9b7-17f2-4340-c0d2-597ed1ddf6c8"
      },
      "execution_count": null,
      "outputs": [
        {
          "output_type": "display_data",
          "data": {
            "text/plain": [
              "<Figure size 432x288 with 2 Axes>"
            ],
            "image/png": "[encoded data removed]"
          },
          "metadata": {
            "needs_background": "light"
          }
        }
      ]
    },
    {
      "cell_type": "markdown",
      "source": [
        "2. Gráfique el número de atomos pesados vs el numero de grupos aliciclicos. También grafique el número de atomos pesados vs el número de grupos hidroxilo. Explique los resultados"
      ],
      "metadata": {
        "id": "rsjhD8HvcM4g"
      }
    },
    {
      "cell_type": "code",
      "source": [
        "x = data_descriptors ['Heavy atoms']\n",
        "y = data_descriptors ['Acyclic groups']\n",
        "plt.scatter(x, y, c =\"blue\")\n",
        "plt.xlabel(\"Heavy atoms\")\n",
        "plt.ylabel(\"Number of acyclic gropus\")"
      ],
      "metadata": {
        "id": "7Sg-7uIPYLS7",
        "colab": {
          "base_uri": "https://localhost:8080/",
          "height": 296
        },
        "outputId": "5e258998-a779-49ab-f7db-a4c96468f634"
      },
      "execution_count": null,
      "outputs": [
        {
          "output_type": "execute_result",
          "data": {
            "text/plain": [
              "Text(0, 0.5, 'Number of acyclic gropus')"
            ]
          },
          "metadata": {},
          "execution_count": 33
        },
        {
          "output_type": "display_data",
          "data": {
            "text/plain": [
              "<Figure size 432x288 with 1 Axes>"
            ],
            "image/png": "[encoded data removed]"
          },
          "metadata": {
            "needs_background": "light"
          }
        }
      ]
    },
    {
      "cell_type": "code",
      "source": [
        "x = data_descriptors ['Heavy atoms']\n",
        "y = data_descriptors ['Hydroxyl groups']\n",
        "plt.scatter(x, y, c =\"blue\")\n",
        "plt.xlabel(\"Heavy atoms\")\n",
        "plt.ylabel(\"Number of hydroxyl gropus\")"
      ],
      "metadata": {
        "id": "wBM4k03v0U9f",
        "colab": {
          "base_uri": "https://localhost:8080/",
          "height": 296
        },
        "outputId": "18bc7c52-3f9a-4231-cfff-59e23b1295dc"
      },
      "execution_count": null,
      "outputs": [
        {
          "output_type": "execute_result",
          "data": {
            "text/plain": [
              "Text(0, 0.5, 'Number of hydroxyl gropus')"
            ]
          },
          "metadata": {},
          "execution_count": 37
        },
        {
          "output_type": "display_data",
          "data": {
            "text/plain": [
              "<Figure size 432x288 with 1 Axes>"
            ],
            "image/png": "[encoded data removed]"
          },
          "metadata": {
            "needs_background": "light"
          }
        }
      ]
    }
  ]
}