{
  "nbformat": 4,
  "nbformat_minor": 0,
  "metadata": {
    "colab": {
      "provenance": [],
      "collapsed_sections": []
    },
    "kernelspec": {
      "name": "python3",
      "display_name": "Python 3"
    },
    "language_info": {
      "name": "python"
    }
  },
  "cells": [
    {
      "cell_type": "markdown",
      "source": [
        "## **MINERIA DE DATOS CON CARBOHIDRATOS**"
      ],
      "metadata": {
        "id": "qQUlFxo1VebL"
      }
    },
    {
      "cell_type": "markdown",
      "source": [
        "# OBTENIENDO SMILES\n",
        "REQUERIMIENTOS: RDKit - Gregory A. Landrum\n",
        "Researcher ETH Zurich\n",
        "\n",
        "Este código obtiene los las estructuras de moleculas a partir de su nombre IUPAC a nombre común utilizando el API de cactus\n",
        "\n",
        "**Instalar las librerias urlopen, quote y pandas**\n",
        "\n",
        "Estas librerias permiten hacer busquedas por API y pandas para el manejo de dataframes\n",
        "\n",
        "Las librerias asociadas a RDKit permiten la manipulación y análisis de datos químicos"
      ],
      "metadata": {
        "id": "KVzZQ51DVvoj"
      }
    },
    {
      "cell_type": "code",
      "source": [
        "# Install RDKit.\n",
        "%%capture\n",
        "!pip install rdkit-pypi"
      ],
      "metadata": {
        "id": "vw1Tk3PU-TEB"
      },
      "execution_count": 1,
      "outputs": []
    },
    {
      "cell_type": "code",
      "source": [
        "from ipywidgets import interact, fixed, widgets\n",
        "from rdkit import Chem, Geometry\n",
        "from rdkit.Chem import AllChem\n",
        "from rdkit.Chem import Draw\n",
        "from rdkit.Chem import rdFMCS\n",
        "from rdkit import DataStructs\n",
        "from rdkit.Chem import PandasTools\n",
        "from rdkit.Chem.Draw import IPythonConsole"
      ],
      "metadata": {
        "id": "RaZ26-QJ_RFM"
      },
      "execution_count": null,
      "outputs": []
    },
    {
      "cell_type": "code",
      "source": [
        "import pandas as pd\n",
        "import numpy as np\n",
        "import matplotlib.pyplot as plt\n",
        "from urllib.request import urlopen\n",
        "from urllib.parse import quote"
      ],
      "metadata": {
        "id": "WlB75_nmXoXu"
      },
      "execution_count": null,
      "outputs": []
    },
    {
      "cell_type": "code",
      "source": [
        "from collections import defaultdict\n",
        "from pathlib import Path\n",
        "from copy import deepcopy\n",
        "import random"
      ],
      "metadata": {
        "id": "OzDLT0lhAdH4"
      },
      "execution_count": null,
      "outputs": []
    },
    {
      "cell_type": "markdown",
      "source": [
        "Cargar el archivo con los nombres de los compuestos a los que se va a extraer el smiles"
      ],
      "metadata": {
        "id": "yUDmrpPWWPXx"
      }
    },
    {
      "cell_type": "code",
      "source": [
        "file = '/content/Carbohydrates_test.xlsx'\n",
        "data_frame = pd.read_excel(file, sheet_name='Hoja1')\n",
        "data_frame"
      ],
      "metadata": {
        "id": "VRffIvV9XABD"
      },
      "execution_count": null,
      "outputs": []
    },
    {
      "cell_type": "markdown",
      "source": [
        "**Función para la busqueda de SMILES**\n",
        "\n",
        "Modificando el nombre de la molecula en la url se obtiene el smile de la base de datos cactus"
      ],
      "metadata": {
        "id": "26bSCBvjWy5J"
      }
    },
    {
      "cell_type": "code",
      "source": [
        "def getSmiles(nombre):\n",
        "    try:\n",
        "        url = 'http://cactus.nci.nih.gov/chemical/structure/' + quote(nombre) + '/smiles'\n",
        "        ans = urlopen(url).read().decode('utf8')\n",
        "        return ans\n",
        "    except:\n",
        "        return 'No SMILE'"
      ],
      "metadata": {
        "id": "_kNT857wWTny"
      },
      "execution_count": null,
      "outputs": []
    },
    {
      "cell_type": "markdown",
      "source": [
        "Realizar la busqueda de los smiles de las moleculas utilizando la función anterior"
      ],
      "metadata": {
        "id": "T8n7edX8_aJq"
      }
    },
    {
      "cell_type": "code",
      "source": [
        "SMILES = []\n",
        "molecules =  list(data_frame['Carbohydrate'])\n",
        "for i in molecules :\n",
        "    smile = getSmiles(i)\n",
        "    SMILES.append(smile)\n",
        "    print(i, smile)"
      ],
      "metadata": {
        "id": "hmMt_ZeiXLdX"
      },
      "execution_count": null,
      "outputs": []
    },
    {
      "cell_type": "markdown",
      "source": [
        "Se crea un data frame en el que se juntan el nombre del lipido con su respectivo SMILE y se guardan en un archivo excel"
      ],
      "metadata": {
        "id": "tJzX9BvmX1G3"
      }
    },
    {
      "cell_type": "code",
      "source": [
        "data_frame ['Smiles'] = SMILES\n",
        "data_frame"
      ],
      "metadata": {
        "id": "8YJXeHDzXW_x"
      },
      "execution_count": null,
      "outputs": []
    },
    {
      "cell_type": "code",
      "source": [
        "data_frame.to_excel('Carbohydrates_smiles_test.xlsx', sheet_name='smiles')"
      ],
      "metadata": {
        "id": "KBps7vHO6WkI"
      },
      "execution_count": null,
      "outputs": []
    },
    {
      "cell_type": "markdown",
      "source": [
        "# **CARGAR LOS DATOS COMPLETOS**"
      ],
      "metadata": {
        "id": "GmYrGSjGZ5wi"
      }
    },
    {
      "cell_type": "markdown",
      "source": [
        "Para poder analizar los datos es necesario instalar la librería RDKit, para analisis de datos químicos"
      ],
      "metadata": {
        "id": "87b6nbOFaQbn"
      }
    },
    {
      "cell_type": "code",
      "source": [
        "new_file = '/content/Carbohydrates_smiles.xlsx'\n",
        "data = pd.read_excel(new_file, sheet_name='smiles')\n",
        "data"
      ],
      "metadata": {
        "id": "jvanul2TYR5g"
      },
      "execution_count": null,
      "outputs": []
    },
    {
      "cell_type": "markdown",
      "source": [
        "Una vez cargados los datos es una buena práctica hacer un paneo de la catidad y tipo de datos que se tienen. Para esto primero exploramos la columna \"Type\" del data frame"
      ],
      "metadata": {
        "id": "uL_Adf8Ebk9s"
      }
    },
    {
      "cell_type": "code",
      "source": [
        "count_type = data['Type'].value_counts()[:10]\n",
        "count_type.plot(kind='barh')\n",
        "count_type"
      ],
      "metadata": {
        "id": "uB4c8O1qaMuN"
      },
      "execution_count": null,
      "outputs": []
    },
    {
      "cell_type": "markdown",
      "source": [
        "Ahora exploramos la columna \"subtype\", especificamente los datos correspondientes a los monosacaridos, que son los que tienen mayor diversidad"
      ],
      "metadata": {
        "id": "-VX0ggfEdMmh"
      }
    },
    {
      "cell_type": "code",
      "source": [
        "Monosaccharides = data.iloc[:77]\n",
        "count_subtype = Monosaccharides['Subtype'].value_counts()[:10]\n",
        "count_subtype.plot(kind='barh')\n",
        "count_subtype"
      ],
      "metadata": {
        "id": "ofzwN0_KeLak"
      },
      "execution_count": null,
      "outputs": []
    },
    {
      "cell_type": "markdown",
      "source": [
        "El siguiente paso es analizar los datos correspondientes a oligosacaridos. Para esto se cargan solo los datos desde la fila 77 a la 100"
      ],
      "metadata": {
        "id": "VFcd6OS3ApsD"
      }
    },
    {
      "cell_type": "code",
      "source": [
        "Oligosaccharides = data.iloc[77:100]\n",
        "count_subtype_o = Oligosaccharides['Subtype'].value_counts()[:10]\n",
        "count_subtype_o.plot(kind='barh')\n",
        "count_subtype_o"
      ],
      "metadata": {
        "id": "TUS3iOnReIwV"
      },
      "execution_count": null,
      "outputs": []
    },
    {
      "cell_type": "markdown",
      "source": [
        "Finalmente se revisan los datos correspondiente a los polisacaridos"
      ],
      "metadata": {
        "id": "IiUFGynnA4IV"
      }
    },
    {
      "cell_type": "code",
      "source": [
        "Polysaccharides = data.iloc[100:]\n",
        "count_subtype_p = Polysaccharides ['Subtype'].value_counts()[:10]\n",
        "count_subtype_p.plot(kind='barh')\n",
        "count_subtype_p"
      ],
      "metadata": {
        "id": "QDMJd1Vme1dI"
      },
      "execution_count": null,
      "outputs": []
    },
    {
      "cell_type": "markdown",
      "source": [
        "# ANALIZANDO LAS CARATERISTICAS ESTRUCTURALES Y FISICOQUÍMICAS DE CARBOHYDARTOS"
      ],
      "metadata": {
        "id": "rjhKipsiCOpV"
      }
    },
    {
      "cell_type": "markdown",
      "source": [
        "RDKit permite general la estructura de una molecula a partir de su smiles, que es una codificación de la estructura quimica en forma de texto\n",
        "\n",
        "https://en.wikipedia.org/wiki/Simplified_molecular-input_line-entry_system"
      ],
      "metadata": {
        "id": "r8_xHDDQOUXY"
      }
    },
    {
      "cell_type": "code",
      "source": [
        "all_smiles = data ['Smiles']\n",
        "mol = random.choice(all_smiles)\n",
        "structure = Chem.MolFromSmiles(mol)\n",
        "structure"
      ],
      "metadata": {
        "id": "SttG1r9TFo5W"
      },
      "execution_count": null,
      "outputs": []
    },
    {
      "cell_type": "markdown",
      "source": [
        "Lo primero que se debe hacer es configurar la función que sombrea la maxima estructura comun compartida entre un grupo dado de moleculas"
      ],
      "metadata": {
        "id": "UsSiXqsHFBIm"
      }
    },
    {
      "cell_type": "code",
      "source": [
        "def highlight_molecules(molecules, mcs, number, same_orientation=True, **kwargs):\n",
        "    \"\"\"Highlight the MCS in our query molecules\"\"\"\n",
        "    molecules = deepcopy(molecules)\n",
        "    # convert MCS to molecule\n",
        "    pattern = Chem.MolFromSmarts(mcs.smartsString)\n",
        "    # find the matching atoms in each molecule\n",
        "    matching = [molecule.GetSubstructMatch(pattern) for molecule in molecules[:number]]\n",
        "\n",
        "    # Align by matched substructure so they are depicted in the same orientation\n",
        "    # Adapted from: https://gist.github.com/greglandrum/82d9a86acb3b00d3bb1df502779a5810\n",
        "    if same_orientation:\n",
        "        mol, match = molecules[0], matching[0]\n",
        "        AllChem.Compute2DCoords(mol)\n",
        "        coords = [mol.GetConformer().GetAtomPosition(x) for x in match]\n",
        "        coords2D = [Geometry.Point2D(pt.x, pt.y) for pt in coords]\n",
        "        for mol, match in zip(molecules[1:number], matching[1:number]):\n",
        "            if not match:\n",
        "                continue\n",
        "            coord_dict = {match[i]: coord for i, coord in enumerate(coords2D)}\n",
        "            AllChem.Compute2DCoords(mol, coordMap=coord_dict)\n",
        "\n",
        "    return Draw.MolsToGridImage(\n",
        "        molecules[:number],\n",
        "        molsPerRow=5,\n",
        "        highlightAtomLists=matching[:number],\n",
        "        subImgSize=(200, 200),\n",
        "        **kwargs,\n",
        "    )"
      ],
      "metadata": {
        "id": "vM3H8cm-UQXL"
      },
      "execution_count": null,
      "outputs": []
    },
    {
      "cell_type": "markdown",
      "source": [
        "El primer paso es analizar que subestructuras son compartidas entre los distintos tipos de carbohidratos presentes en el dataset. En primer lugar se hace la búsqueda para los monosacaridos"
      ],
      "metadata": {
        "id": "b5KYXegIFacl"
      }
    },
    {
      "cell_type": "code",
      "source": [
        "Mon_smiles = Monosaccharides ['Smiles']\n",
        "Mon_structure = [Chem.MolFromSmiles (smile) for smile in Mon_smiles ]\n",
        "cm_mon_subst = rdFMCS.FindMCS(Mon_structure)\n",
        "print(f\"The CS contains {cm_mon_subst.numAtoms} atoms and {cm_mon_subst.numBonds} bonds.\")\n",
        "highlight_molecules(Mon_structure, cm_mon_subst, 5)"
      ],
      "metadata": {
        "id": "C45uM0Z0Vtqo"
      },
      "execution_count": null,
      "outputs": []
    },
    {
      "cell_type": "markdown",
      "source": [
        "Luego se realiza la misma búsqueda para los oligosacaridos"
      ],
      "metadata": {
        "id": "2H1cmZjSRVur"
      }
    },
    {
      "cell_type": "code",
      "source": [
        "Oligo_smiles = Oligosaccharides ['Smiles']\n",
        "Oligo_structure = [Chem.MolFromSmiles (smile) for smile in Oligo_smiles ]\n",
        "cm_oligo_subst = rdFMCS.FindMCS(Oligo_structure)\n",
        "print(f\"The CS contains {cm_oligo_subst.numAtoms} atoms and {cm_oligo_subst.numBonds} bonds.\")\n",
        "highlight_molecules(Oligo_structure, cm_oligo_subst, 5)"
      ],
      "metadata": {
        "id": "wzu_gEeR6Cpt"
      },
      "execution_count": null,
      "outputs": []
    },
    {
      "cell_type": "markdown",
      "source": [
        "Finalmente se lleva a cabo la búsqueda para los polisacaridos"
      ],
      "metadata": {
        "id": "X7Aovz7lRp6d"
      }
    },
    {
      "cell_type": "code",
      "source": [
        "Pol_smiles = Polysaccharides ['Smiles']\n",
        "Pol_structure = [Chem.MolFromSmiles (smile) for smile in Pol_smiles ]\n",
        "cm_pol_subst = rdFMCS.FindMCS(Pol_structure)\n",
        "print(f\"The CS contains {cm_pol_subst.numAtoms} atoms and {cm_pol_subst.numBonds} bonds.\")\n",
        "highlight_molecules(Pol_structure, cm_pol_subst, 1)"
      ],
      "metadata": {
        "id": "VhULeajbWyIy"
      },
      "execution_count": null,
      "outputs": []
    },
    {
      "cell_type": "markdown",
      "source": [
        "RDKit permite imprimir solo la parte de la subestructura que se detecto como común en la busqueda realizada"
      ],
      "metadata": {
        "id": "VJCZPKzrRxfi"
      }
    },
    {
      "cell_type": "code",
      "source": [
        "m1 = Chem.MolFromSmarts(cm_mon_subst.smartsString)\n",
        "m2 = Chem.MolFromSmarts(cm_oligo_subst.smartsString)\n",
        "m3 = Chem.MolFromSmarts(cm_pol_subst.smartsString)\n",
        "\n",
        "Draw.MolsToGridImage(\n",
        "    [m1, m2, m3],\n",
        "    legends=[\n",
        "        \"Monosacaridos\",\n",
        "        \"Oligosacaridos\",\n",
        "        \"Polisacaridos\",\n",
        "    ],\n",
        ")"
      ],
      "metadata": {
        "id": "ummjd3RXCr-V"
      },
      "execution_count": null,
      "outputs": []
    },
    {
      "cell_type": "markdown",
      "source": [
        "# CALCULANDO DESCRIPTORES MOLECULARES CON RDKIT"
      ],
      "metadata": {
        "id": "FDuaZtRsXI6f"
      }
    },
    {
      "cell_type": "markdown",
      "source": [
        "RDKit también perimite el calculo de descriptores moleculares. son propiedades fisicoquímicas que se calculan a partir de una estructura por métodos computacionales, por lo que son un reflejo cuantitativo o describen numéricamente a cada una de las moléculas.\n",
        "\n",
        "En este caso vamos a calcular los siguientes descriptores moleculares: numero de atomos pesados, grupos hidroxilo, grupos carbonilo, grupos carboxilo y grupos fenilo"
      ],
      "metadata": {
        "id": "2gM7PC37XN3u"
      }
    },
    {
      "cell_type": "code",
      "source": [
        "caboxyl_group = Chem.MolFromSmiles('CC(=O)O')\n",
        "carbonyl_group = Chem.MolFromSmiles('C(=O)C')\n",
        "hydroxyl_group = Chem.MolFromSmiles('C-O')\n",
        "acyclic_group = Chem.MolFromSmiles('CCC')\n",
        "Draw.MolsToGridImage(\n",
        "    [caboxyl_group, carbonyl_group, hydroxyl_group, acyclic_group],\n",
        "    legends=[\n",
        "        \"Carboxilo\",\n",
        "        \"Carbonilo\",\n",
        "        \"Hidroxilo\",\n",
        "        \"Acyclic\",\n",
        "    ],\n",
        ")"
      ],
      "metadata": {
        "id": "TEji7tOrYdFM"
      },
      "execution_count": null,
      "outputs": []
    },
    {
      "cell_type": "markdown",
      "source": [
        "Para esto vamos a usar la Match de RDKit que busca por subestructuras especificas en conjunto de moleculas dados"
      ],
      "metadata": {
        "id": "wGoKU6XQaPgg"
      }
    },
    {
      "cell_type": "code",
      "source": [
        "Heavy_atoms = []\n",
        "count_carboxyl = []\n",
        "count_carbonyl = []\n",
        "count_hydroxyl = []\n",
        "count_acyclic = []\n",
        "\n",
        "for smile in all_smiles: \n",
        "  #Generate the structure of the molecule\n",
        "  mol = Chem.MolFromSmiles(smile)\n",
        "\n",
        "  # Get heavy atoms count \n",
        "  heavy_atoms_count = mol.GetNumHeavyAtoms()\n",
        "  Heavy_atoms.append(heavy_atoms_count)\n",
        "\n",
        "  #Get number of caboxyl groups\n",
        "  matches_caboxyl = mol.GetSubstructMatches(caboxyl_group)\n",
        "  count_carboxyl.append(len(matches_caboxyl))\n",
        "\n",
        "  #Get number of carbonyl groups\n",
        "  matches_carbonyl = mol.GetSubstructMatches(carbonyl_group)\n",
        "  count_carbonyl.append(len(matches_carbonyl))\n",
        "\n",
        "  #Get number of hydroxyl groups\n",
        "  matches_hydroxyl = mol.GetSubstructMatches(hydroxyl_group)\n",
        "  count_hydroxyl.append(len(matches_hydroxyl))\n",
        "\n",
        "  #Get number of phenyl groups\n",
        "  matches_acyclic = mol.GetSubstructMatches(acyclic_group)\n",
        "  count_acyclic.append(len(matches_acyclic))"
      ],
      "metadata": {
        "id": "6g0TJLGrSu4m"
      },
      "execution_count": null,
      "outputs": []
    },
    {
      "cell_type": "markdown",
      "source": [
        "Ahora se agregan los nuevos parametros calculados a los datos originales para compilarlos"
      ],
      "metadata": {
        "id": "xClU8rxRafud"
      }
    },
    {
      "cell_type": "code",
      "source": [
        "data ['Heavy atoms'], data ['Carboxyl groups'], data ['Carbonyl groups'] = [Heavy_atoms, count_carboxyl, count_carbonyl]\n",
        "data"
      ],
      "metadata": {
        "id": "Y12SdeogAn2M"
      },
      "execution_count": null,
      "outputs": []
    },
    {
      "cell_type": "code",
      "source": [
        "data ['Hydroxyl groups'], data ['Acyclic groups'] = [count_hydroxyl, count_acyclic]\n",
        "data"
      ],
      "metadata": {
        "id": "gHsnpnDfVaAv"
      },
      "execution_count": null,
      "outputs": []
    },
    {
      "cell_type": "markdown",
      "source": [
        "Una vez compilados los datos se guardan en un archivo excel para su posterior uso"
      ],
      "metadata": {
        "id": "igxjzvtdbLQy"
      }
    },
    {
      "cell_type": "code",
      "source": [
        "data.to_excel('Carbohydrates_descriptors_clase.xlsx', sheet_name='data')"
      ],
      "metadata": {
        "id": "3T0fFhNVY65k"
      },
      "execution_count": null,
      "outputs": []
    },
    {
      "cell_type": "markdown",
      "source": [
        "#TALLER RDKit: Análisis de diferencias estructurales entre monosacaridos\n",
        "\n",
        "Para realizar este taller se debe cargar el archivo de smiles y el archivo de descriptores generado anteriormente. No es necesario correr las celdas anteriores\n",
        "\n"
      ],
      "metadata": {
        "id": "y6odvSi6NIty"
      }
    },
    {
      "cell_type": "code",
      "source": [
        "import pandas as pd\n",
        "import numpy as np\n",
        "import matplotlib.pyplot as plt\n",
        "import seaborn as sns\n",
        "import random"
      ],
      "metadata": {
        "id": "OCctn7C2OuMR"
      },
      "execution_count": null,
      "outputs": []
    },
    {
      "cell_type": "code",
      "source": [
        "data_descriptors = '/content/Carbohydrates_descriptors.xlsx'\n",
        "data_descriptors = pd.read_excel(data_descriptors, sheet_name='data')\n",
        "data_descriptors"
      ],
      "metadata": {
        "id": "O1s5eJsbQB1O"
      },
      "execution_count": null,
      "outputs": []
    },
    {
      "cell_type": "markdown",
      "source": [
        "1. Hacer un análisis de de correlación de los descriptores calculados utilizando el indice de correlación de Pearson. Para esto ejecute las celdas de codigo en los siguientes bloques. Explique los resultados\n",
        "\n",
        "https://en.wikipedia.org/wiki/Pearson_correlation_coefficient"
      ],
      "metadata": {
        "id": "j5TO2-_7v-Wu"
      }
    },
    {
      "cell_type": "code",
      "source": [
        "correlation_data = data_descriptors.drop(['Carbohydrate', 'Smiles', 'Type', 'Subtype'], axis=1)\n",
        "correlation_matrix = correlation_data.corr()\n",
        "matrix = np.triu(correlation_matrix)\n",
        "sns.heatmap(correlation_matrix, annot = True, mask=matrix)\n",
        "plt.show()"
      ],
      "metadata": {
        "id": "wdoiWKresdSo"
      },
      "execution_count": null,
      "outputs": []
    },
    {
      "cell_type": "markdown",
      "source": [
        "2. Gráfique el número de atomos pesados vs el numero de grupos aliciclicos. También grafique el número de atomos pesados vs el número de grupos hidroxilo. Explique los resultados"
      ],
      "metadata": {
        "id": "rsjhD8HvcM4g"
      }
    },
    {
      "cell_type": "code",
      "source": [
        "x = data_descriptors ['Heavy atoms']\n",
        "y = data_descriptors ['Acyclic groups']\n",
        "plt.scatter(x, y, c =\"blue\")\n",
        "plt.xlabel(\"Heavy atoms\")\n",
        "plt.ylabel(\"Number of acyclic gropus\")"
      ],
      "metadata": {
        "id": "7Sg-7uIPYLS7"
      },
      "execution_count": null,
      "outputs": []
    },
    {
      "cell_type": "code",
      "source": [
        "x = data_descriptors ['Heavy atoms']\n",
        "y = data_descriptors ['Hydroxyl groups']\n",
        "plt.scatter(x, y, c =\"blue\")\n",
        "plt.xlabel(\"Heavy atoms\")\n",
        "plt.ylabel(\"Number of hydroxyl gropus\")"
      ],
      "metadata": {
        "id": "wBM4k03v0U9f"
      },
      "execution_count": null,
      "outputs": []
    }
  ]
}